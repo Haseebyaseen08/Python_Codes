{
 "cells": [
  {
   "cell_type": "code",
   "execution_count": 1,
   "metadata": {},
   "outputs": [
    {
     "data": {
      "text/html": [
       "<div>\n",
       "<style scoped>\n",
       "    .dataframe tbody tr th:only-of-type {\n",
       "        vertical-align: middle;\n",
       "    }\n",
       "\n",
       "    .dataframe tbody tr th {\n",
       "        vertical-align: top;\n",
       "    }\n",
       "\n",
       "    .dataframe thead th {\n",
       "        text-align: right;\n",
       "    }\n",
       "</style>\n",
       "<table border=\"1\" class=\"dataframe\">\n",
       "  <thead>\n",
       "    <tr style=\"text-align: right;\">\n",
       "      <th></th>\n",
       "      <th>PassengerId</th>\n",
       "      <th>PClass</th>\n",
       "      <th>Gender</th>\n",
       "      <th>Sibling</th>\n",
       "      <th>Embarked</th>\n",
       "      <th>Survived</th>\n",
       "    </tr>\n",
       "  </thead>\n",
       "  <tbody>\n",
       "    <tr>\n",
       "      <th>0</th>\n",
       "      <td>1</td>\n",
       "      <td>3</td>\n",
       "      <td>male</td>\n",
       "      <td>1</td>\n",
       "      <td>S</td>\n",
       "      <td>0</td>\n",
       "    </tr>\n",
       "    <tr>\n",
       "      <th>1</th>\n",
       "      <td>2</td>\n",
       "      <td>1</td>\n",
       "      <td>female</td>\n",
       "      <td>1</td>\n",
       "      <td>C</td>\n",
       "      <td>1</td>\n",
       "    </tr>\n",
       "    <tr>\n",
       "      <th>2</th>\n",
       "      <td>3</td>\n",
       "      <td>3</td>\n",
       "      <td>female</td>\n",
       "      <td>0</td>\n",
       "      <td>S</td>\n",
       "      <td>1</td>\n",
       "    </tr>\n",
       "    <tr>\n",
       "      <th>3</th>\n",
       "      <td>4</td>\n",
       "      <td>1</td>\n",
       "      <td>female</td>\n",
       "      <td>1</td>\n",
       "      <td>S</td>\n",
       "      <td>1</td>\n",
       "    </tr>\n",
       "    <tr>\n",
       "      <th>4</th>\n",
       "      <td>5</td>\n",
       "      <td>3</td>\n",
       "      <td>male</td>\n",
       "      <td>0</td>\n",
       "      <td>S</td>\n",
       "      <td>0</td>\n",
       "    </tr>\n",
       "  </tbody>\n",
       "</table>\n",
       "</div>"
      ],
      "text/plain": [
       "   PassengerId  PClass  Gender  Sibling Embarked  Survived\n",
       "0            1       3    male        1        S         0\n",
       "1            2       1  female        1        C         1\n",
       "2            3       3  female        0        S         1\n",
       "3            4       1  female        1        S         1\n",
       "4            5       3    male        0        S         0"
      ]
     },
     "execution_count": 1,
     "metadata": {},
     "output_type": "execute_result"
    }
   ],
   "source": [
    "import pandas as pd\n",
    "df=pd.read_csv(\"Titanic Disaster Dataset.csv\")   #<1,3,\n",
    "df.head()"
   ]
  },
  {
   "cell_type": "code",
   "execution_count": 2,
   "metadata": {},
   "outputs": [
    {
     "data": {
      "text/html": [
       "<div>\n",
       "<style scoped>\n",
       "    .dataframe tbody tr th:only-of-type {\n",
       "        vertical-align: middle;\n",
       "    }\n",
       "\n",
       "    .dataframe tbody tr th {\n",
       "        vertical-align: top;\n",
       "    }\n",
       "\n",
       "    .dataframe thead th {\n",
       "        text-align: right;\n",
       "    }\n",
       "</style>\n",
       "<table border=\"1\" class=\"dataframe\">\n",
       "  <thead>\n",
       "    <tr style=\"text-align: right;\">\n",
       "      <th></th>\n",
       "      <th>PassengerId</th>\n",
       "      <th>PClass</th>\n",
       "      <th>Gender</th>\n",
       "      <th>Sibling</th>\n",
       "      <th>Embarked</th>\n",
       "      <th>Survived</th>\n",
       "    </tr>\n",
       "  </thead>\n",
       "  <tbody>\n",
       "    <tr>\n",
       "      <th>0</th>\n",
       "      <td>1</td>\n",
       "      <td>3</td>\n",
       "      <td>male</td>\n",
       "      <td>1</td>\n",
       "      <td>S</td>\n",
       "      <td>0</td>\n",
       "    </tr>\n",
       "    <tr>\n",
       "      <th>1</th>\n",
       "      <td>2</td>\n",
       "      <td>1</td>\n",
       "      <td>female</td>\n",
       "      <td>1</td>\n",
       "      <td>C</td>\n",
       "      <td>1</td>\n",
       "    </tr>\n",
       "    <tr>\n",
       "      <th>2</th>\n",
       "      <td>3</td>\n",
       "      <td>3</td>\n",
       "      <td>female</td>\n",
       "      <td>0</td>\n",
       "      <td>S</td>\n",
       "      <td>1</td>\n",
       "    </tr>\n",
       "    <tr>\n",
       "      <th>3</th>\n",
       "      <td>4</td>\n",
       "      <td>1</td>\n",
       "      <td>female</td>\n",
       "      <td>1</td>\n",
       "      <td>S</td>\n",
       "      <td>1</td>\n",
       "    </tr>\n",
       "    <tr>\n",
       "      <th>4</th>\n",
       "      <td>5</td>\n",
       "      <td>3</td>\n",
       "      <td>male</td>\n",
       "      <td>0</td>\n",
       "      <td>S</td>\n",
       "      <td>0</td>\n",
       "    </tr>\n",
       "    <tr>\n",
       "      <th>...</th>\n",
       "      <td>...</td>\n",
       "      <td>...</td>\n",
       "      <td>...</td>\n",
       "      <td>...</td>\n",
       "      <td>...</td>\n",
       "      <td>...</td>\n",
       "    </tr>\n",
       "    <tr>\n",
       "      <th>1304</th>\n",
       "      <td>1305</td>\n",
       "      <td>3</td>\n",
       "      <td>male</td>\n",
       "      <td>0</td>\n",
       "      <td>S</td>\n",
       "      <td>0</td>\n",
       "    </tr>\n",
       "    <tr>\n",
       "      <th>1305</th>\n",
       "      <td>1306</td>\n",
       "      <td>1</td>\n",
       "      <td>female</td>\n",
       "      <td>0</td>\n",
       "      <td>C</td>\n",
       "      <td>1</td>\n",
       "    </tr>\n",
       "    <tr>\n",
       "      <th>1306</th>\n",
       "      <td>1307</td>\n",
       "      <td>3</td>\n",
       "      <td>male</td>\n",
       "      <td>0</td>\n",
       "      <td>S</td>\n",
       "      <td>0</td>\n",
       "    </tr>\n",
       "    <tr>\n",
       "      <th>1307</th>\n",
       "      <td>1308</td>\n",
       "      <td>3</td>\n",
       "      <td>male</td>\n",
       "      <td>0</td>\n",
       "      <td>S</td>\n",
       "      <td>0</td>\n",
       "    </tr>\n",
       "    <tr>\n",
       "      <th>1308</th>\n",
       "      <td>1309</td>\n",
       "      <td>3</td>\n",
       "      <td>male</td>\n",
       "      <td>1</td>\n",
       "      <td>C</td>\n",
       "      <td>0</td>\n",
       "    </tr>\n",
       "  </tbody>\n",
       "</table>\n",
       "<p>1272 rows × 6 columns</p>\n",
       "</div>"
      ],
      "text/plain": [
       "      PassengerId  PClass  Gender  Sibling Embarked  Survived\n",
       "0               1       3    male        1        S         0\n",
       "1               2       1  female        1        C         1\n",
       "2               3       3  female        0        S         1\n",
       "3               4       1  female        1        S         1\n",
       "4               5       3    male        0        S         0\n",
       "...           ...     ...     ...      ...      ...       ...\n",
       "1304         1305       3    male        0        S         0\n",
       "1305         1306       1  female        0        C         1\n",
       "1306         1307       3    male        0        S         0\n",
       "1307         1308       3    male        0        S         0\n",
       "1308         1309       3    male        1        C         0\n",
       "\n",
       "[1272 rows x 6 columns]"
      ]
     },
     "execution_count": 2,
     "metadata": {},
     "output_type": "execute_result"
    }
   ],
   "source": [
    "df=df[df.Sibling<4]\n",
    "df=df[df.Sibling>=0]\n",
    "df=df[df.Embarked!=None]\n",
    "df=df[df.Gender!=None]\n",
    "df=df[df.PClass<4]\n",
    "df=df[df.PClass>=1]\n",
    "df=df[df.Survived!=None]\n",
    "df"
   ]
  },
  {
   "cell_type": "code",
   "execution_count": 3,
   "metadata": {},
   "outputs": [],
   "source": [
    "Input=df.drop(\"Survived\",axis=\"columns\")\n",
    "Target=df[\"Survived\"]"
   ]
  },
  {
   "cell_type": "code",
   "execution_count": 4,
   "metadata": {},
   "outputs": [
    {
     "data": {
      "text/html": [
       "<div>\n",
       "<style scoped>\n",
       "    .dataframe tbody tr th:only-of-type {\n",
       "        vertical-align: middle;\n",
       "    }\n",
       "\n",
       "    .dataframe tbody tr th {\n",
       "        vertical-align: top;\n",
       "    }\n",
       "\n",
       "    .dataframe thead th {\n",
       "        text-align: right;\n",
       "    }\n",
       "</style>\n",
       "<table border=\"1\" class=\"dataframe\">\n",
       "  <thead>\n",
       "    <tr style=\"text-align: right;\">\n",
       "      <th></th>\n",
       "      <th>PassengerId</th>\n",
       "      <th>PClass</th>\n",
       "      <th>Gender</th>\n",
       "      <th>Sibling</th>\n",
       "      <th>Embarked</th>\n",
       "    </tr>\n",
       "  </thead>\n",
       "  <tbody>\n",
       "    <tr>\n",
       "      <th>0</th>\n",
       "      <td>1</td>\n",
       "      <td>3</td>\n",
       "      <td>male</td>\n",
       "      <td>1</td>\n",
       "      <td>S</td>\n",
       "    </tr>\n",
       "    <tr>\n",
       "      <th>1</th>\n",
       "      <td>2</td>\n",
       "      <td>1</td>\n",
       "      <td>female</td>\n",
       "      <td>1</td>\n",
       "      <td>C</td>\n",
       "    </tr>\n",
       "    <tr>\n",
       "      <th>2</th>\n",
       "      <td>3</td>\n",
       "      <td>3</td>\n",
       "      <td>female</td>\n",
       "      <td>0</td>\n",
       "      <td>S</td>\n",
       "    </tr>\n",
       "    <tr>\n",
       "      <th>3</th>\n",
       "      <td>4</td>\n",
       "      <td>1</td>\n",
       "      <td>female</td>\n",
       "      <td>1</td>\n",
       "      <td>S</td>\n",
       "    </tr>\n",
       "    <tr>\n",
       "      <th>4</th>\n",
       "      <td>5</td>\n",
       "      <td>3</td>\n",
       "      <td>male</td>\n",
       "      <td>0</td>\n",
       "      <td>S</td>\n",
       "    </tr>\n",
       "    <tr>\n",
       "      <th>...</th>\n",
       "      <td>...</td>\n",
       "      <td>...</td>\n",
       "      <td>...</td>\n",
       "      <td>...</td>\n",
       "      <td>...</td>\n",
       "    </tr>\n",
       "    <tr>\n",
       "      <th>1304</th>\n",
       "      <td>1305</td>\n",
       "      <td>3</td>\n",
       "      <td>male</td>\n",
       "      <td>0</td>\n",
       "      <td>S</td>\n",
       "    </tr>\n",
       "    <tr>\n",
       "      <th>1305</th>\n",
       "      <td>1306</td>\n",
       "      <td>1</td>\n",
       "      <td>female</td>\n",
       "      <td>0</td>\n",
       "      <td>C</td>\n",
       "    </tr>\n",
       "    <tr>\n",
       "      <th>1306</th>\n",
       "      <td>1307</td>\n",
       "      <td>3</td>\n",
       "      <td>male</td>\n",
       "      <td>0</td>\n",
       "      <td>S</td>\n",
       "    </tr>\n",
       "    <tr>\n",
       "      <th>1307</th>\n",
       "      <td>1308</td>\n",
       "      <td>3</td>\n",
       "      <td>male</td>\n",
       "      <td>0</td>\n",
       "      <td>S</td>\n",
       "    </tr>\n",
       "    <tr>\n",
       "      <th>1308</th>\n",
       "      <td>1309</td>\n",
       "      <td>3</td>\n",
       "      <td>male</td>\n",
       "      <td>1</td>\n",
       "      <td>C</td>\n",
       "    </tr>\n",
       "  </tbody>\n",
       "</table>\n",
       "<p>1272 rows × 5 columns</p>\n",
       "</div>"
      ],
      "text/plain": [
       "      PassengerId  PClass  Gender  Sibling Embarked\n",
       "0               1       3    male        1        S\n",
       "1               2       1  female        1        C\n",
       "2               3       3  female        0        S\n",
       "3               4       1  female        1        S\n",
       "4               5       3    male        0        S\n",
       "...           ...     ...     ...      ...      ...\n",
       "1304         1305       3    male        0        S\n",
       "1305         1306       1  female        0        C\n",
       "1306         1307       3    male        0        S\n",
       "1307         1308       3    male        0        S\n",
       "1308         1309       3    male        1        C\n",
       "\n",
       "[1272 rows x 5 columns]"
      ]
     },
     "execution_count": 4,
     "metadata": {},
     "output_type": "execute_result"
    }
   ],
   "source": [
    "Input"
   ]
  },
  {
   "cell_type": "code",
   "execution_count": 5,
   "metadata": {},
   "outputs": [
    {
     "data": {
      "text/plain": [
       "0       0\n",
       "1       1\n",
       "2       1\n",
       "3       1\n",
       "4       0\n",
       "       ..\n",
       "1304    0\n",
       "1305    1\n",
       "1306    0\n",
       "1307    0\n",
       "1308    0\n",
       "Name: Survived, Length: 1272, dtype: int64"
      ]
     },
     "execution_count": 5,
     "metadata": {},
     "output_type": "execute_result"
    }
   ],
   "source": [
    "Target"
   ]
  },
  {
   "cell_type": "code",
   "execution_count": 6,
   "metadata": {},
   "outputs": [],
   "source": [
    "from sklearn.preprocessing import LabelEncoder"
   ]
  },
  {
   "cell_type": "code",
   "execution_count": 7,
   "metadata": {},
   "outputs": [],
   "source": [
    "le_gender=LabelEncoder()"
   ]
  },
  {
   "cell_type": "code",
   "execution_count": 8,
   "metadata": {},
   "outputs": [
    {
     "data": {
      "text/html": [
       "<div>\n",
       "<style scoped>\n",
       "    .dataframe tbody tr th:only-of-type {\n",
       "        vertical-align: middle;\n",
       "    }\n",
       "\n",
       "    .dataframe tbody tr th {\n",
       "        vertical-align: top;\n",
       "    }\n",
       "\n",
       "    .dataframe thead th {\n",
       "        text-align: right;\n",
       "    }\n",
       "</style>\n",
       "<table border=\"1\" class=\"dataframe\">\n",
       "  <thead>\n",
       "    <tr style=\"text-align: right;\">\n",
       "      <th></th>\n",
       "      <th>PassengerId</th>\n",
       "      <th>PClass</th>\n",
       "      <th>Gender</th>\n",
       "      <th>Sibling</th>\n",
       "      <th>Embarked</th>\n",
       "      <th>new_Gender</th>\n",
       "    </tr>\n",
       "  </thead>\n",
       "  <tbody>\n",
       "    <tr>\n",
       "      <th>0</th>\n",
       "      <td>1</td>\n",
       "      <td>3</td>\n",
       "      <td>male</td>\n",
       "      <td>1</td>\n",
       "      <td>S</td>\n",
       "      <td>1</td>\n",
       "    </tr>\n",
       "    <tr>\n",
       "      <th>1</th>\n",
       "      <td>2</td>\n",
       "      <td>1</td>\n",
       "      <td>female</td>\n",
       "      <td>1</td>\n",
       "      <td>C</td>\n",
       "      <td>0</td>\n",
       "    </tr>\n",
       "    <tr>\n",
       "      <th>2</th>\n",
       "      <td>3</td>\n",
       "      <td>3</td>\n",
       "      <td>female</td>\n",
       "      <td>0</td>\n",
       "      <td>S</td>\n",
       "      <td>0</td>\n",
       "    </tr>\n",
       "    <tr>\n",
       "      <th>3</th>\n",
       "      <td>4</td>\n",
       "      <td>1</td>\n",
       "      <td>female</td>\n",
       "      <td>1</td>\n",
       "      <td>S</td>\n",
       "      <td>0</td>\n",
       "    </tr>\n",
       "    <tr>\n",
       "      <th>4</th>\n",
       "      <td>5</td>\n",
       "      <td>3</td>\n",
       "      <td>male</td>\n",
       "      <td>0</td>\n",
       "      <td>S</td>\n",
       "      <td>1</td>\n",
       "    </tr>\n",
       "  </tbody>\n",
       "</table>\n",
       "</div>"
      ],
      "text/plain": [
       "   PassengerId  PClass  Gender  Sibling Embarked  new_Gender\n",
       "0            1       3    male        1        S           1\n",
       "1            2       1  female        1        C           0\n",
       "2            3       3  female        0        S           0\n",
       "3            4       1  female        1        S           0\n",
       "4            5       3    male        0        S           1"
      ]
     },
     "execution_count": 8,
     "metadata": {},
     "output_type": "execute_result"
    }
   ],
   "source": [
    "Input[\"new_Gender\"]=le_gender.fit_transform(Input[\"Gender\"])\n",
    "Input.head()"
   ]
  },
  {
   "cell_type": "code",
   "execution_count": 9,
   "metadata": {},
   "outputs": [],
   "source": [
    "dumies=pd.get_dummies(Input.Embarked)"
   ]
  },
  {
   "cell_type": "code",
   "execution_count": 10,
   "metadata": {},
   "outputs": [
    {
     "data": {
      "text/html": [
       "<div>\n",
       "<style scoped>\n",
       "    .dataframe tbody tr th:only-of-type {\n",
       "        vertical-align: middle;\n",
       "    }\n",
       "\n",
       "    .dataframe tbody tr th {\n",
       "        vertical-align: top;\n",
       "    }\n",
       "\n",
       "    .dataframe thead th {\n",
       "        text-align: right;\n",
       "    }\n",
       "</style>\n",
       "<table border=\"1\" class=\"dataframe\">\n",
       "  <thead>\n",
       "    <tr style=\"text-align: right;\">\n",
       "      <th></th>\n",
       "      <th>C</th>\n",
       "      <th>Q</th>\n",
       "      <th>S</th>\n",
       "    </tr>\n",
       "  </thead>\n",
       "  <tbody>\n",
       "    <tr>\n",
       "      <th>0</th>\n",
       "      <td>0</td>\n",
       "      <td>0</td>\n",
       "      <td>1</td>\n",
       "    </tr>\n",
       "    <tr>\n",
       "      <th>1</th>\n",
       "      <td>1</td>\n",
       "      <td>0</td>\n",
       "      <td>0</td>\n",
       "    </tr>\n",
       "    <tr>\n",
       "      <th>2</th>\n",
       "      <td>0</td>\n",
       "      <td>0</td>\n",
       "      <td>1</td>\n",
       "    </tr>\n",
       "    <tr>\n",
       "      <th>3</th>\n",
       "      <td>0</td>\n",
       "      <td>0</td>\n",
       "      <td>1</td>\n",
       "    </tr>\n",
       "    <tr>\n",
       "      <th>4</th>\n",
       "      <td>0</td>\n",
       "      <td>0</td>\n",
       "      <td>1</td>\n",
       "    </tr>\n",
       "    <tr>\n",
       "      <th>...</th>\n",
       "      <td>...</td>\n",
       "      <td>...</td>\n",
       "      <td>...</td>\n",
       "    </tr>\n",
       "    <tr>\n",
       "      <th>1304</th>\n",
       "      <td>0</td>\n",
       "      <td>0</td>\n",
       "      <td>1</td>\n",
       "    </tr>\n",
       "    <tr>\n",
       "      <th>1305</th>\n",
       "      <td>1</td>\n",
       "      <td>0</td>\n",
       "      <td>0</td>\n",
       "    </tr>\n",
       "    <tr>\n",
       "      <th>1306</th>\n",
       "      <td>0</td>\n",
       "      <td>0</td>\n",
       "      <td>1</td>\n",
       "    </tr>\n",
       "    <tr>\n",
       "      <th>1307</th>\n",
       "      <td>0</td>\n",
       "      <td>0</td>\n",
       "      <td>1</td>\n",
       "    </tr>\n",
       "    <tr>\n",
       "      <th>1308</th>\n",
       "      <td>1</td>\n",
       "      <td>0</td>\n",
       "      <td>0</td>\n",
       "    </tr>\n",
       "  </tbody>\n",
       "</table>\n",
       "<p>1272 rows × 3 columns</p>\n",
       "</div>"
      ],
      "text/plain": [
       "      C  Q  S\n",
       "0     0  0  1\n",
       "1     1  0  0\n",
       "2     0  0  1\n",
       "3     0  0  1\n",
       "4     0  0  1\n",
       "...  .. .. ..\n",
       "1304  0  0  1\n",
       "1305  1  0  0\n",
       "1306  0  0  1\n",
       "1307  0  0  1\n",
       "1308  1  0  0\n",
       "\n",
       "[1272 rows x 3 columns]"
      ]
     },
     "execution_count": 10,
     "metadata": {},
     "output_type": "execute_result"
    }
   ],
   "source": [
    "dumies"
   ]
  },
  {
   "cell_type": "code",
   "execution_count": 11,
   "metadata": {},
   "outputs": [],
   "source": [
    "merged=pd.concat([Input,dumies],axis=\"columns\")"
   ]
  },
  {
   "cell_type": "code",
   "execution_count": 12,
   "metadata": {},
   "outputs": [
    {
     "data": {
      "text/html": [
       "<div>\n",
       "<style scoped>\n",
       "    .dataframe tbody tr th:only-of-type {\n",
       "        vertical-align: middle;\n",
       "    }\n",
       "\n",
       "    .dataframe tbody tr th {\n",
       "        vertical-align: top;\n",
       "    }\n",
       "\n",
       "    .dataframe thead th {\n",
       "        text-align: right;\n",
       "    }\n",
       "</style>\n",
       "<table border=\"1\" class=\"dataframe\">\n",
       "  <thead>\n",
       "    <tr style=\"text-align: right;\">\n",
       "      <th></th>\n",
       "      <th>PassengerId</th>\n",
       "      <th>PClass</th>\n",
       "      <th>Gender</th>\n",
       "      <th>Sibling</th>\n",
       "      <th>Embarked</th>\n",
       "      <th>new_Gender</th>\n",
       "      <th>C</th>\n",
       "      <th>Q</th>\n",
       "      <th>S</th>\n",
       "    </tr>\n",
       "  </thead>\n",
       "  <tbody>\n",
       "    <tr>\n",
       "      <th>0</th>\n",
       "      <td>1</td>\n",
       "      <td>3</td>\n",
       "      <td>male</td>\n",
       "      <td>1</td>\n",
       "      <td>S</td>\n",
       "      <td>1</td>\n",
       "      <td>0</td>\n",
       "      <td>0</td>\n",
       "      <td>1</td>\n",
       "    </tr>\n",
       "    <tr>\n",
       "      <th>1</th>\n",
       "      <td>2</td>\n",
       "      <td>1</td>\n",
       "      <td>female</td>\n",
       "      <td>1</td>\n",
       "      <td>C</td>\n",
       "      <td>0</td>\n",
       "      <td>1</td>\n",
       "      <td>0</td>\n",
       "      <td>0</td>\n",
       "    </tr>\n",
       "    <tr>\n",
       "      <th>2</th>\n",
       "      <td>3</td>\n",
       "      <td>3</td>\n",
       "      <td>female</td>\n",
       "      <td>0</td>\n",
       "      <td>S</td>\n",
       "      <td>0</td>\n",
       "      <td>0</td>\n",
       "      <td>0</td>\n",
       "      <td>1</td>\n",
       "    </tr>\n",
       "    <tr>\n",
       "      <th>3</th>\n",
       "      <td>4</td>\n",
       "      <td>1</td>\n",
       "      <td>female</td>\n",
       "      <td>1</td>\n",
       "      <td>S</td>\n",
       "      <td>0</td>\n",
       "      <td>0</td>\n",
       "      <td>0</td>\n",
       "      <td>1</td>\n",
       "    </tr>\n",
       "    <tr>\n",
       "      <th>4</th>\n",
       "      <td>5</td>\n",
       "      <td>3</td>\n",
       "      <td>male</td>\n",
       "      <td>0</td>\n",
       "      <td>S</td>\n",
       "      <td>1</td>\n",
       "      <td>0</td>\n",
       "      <td>0</td>\n",
       "      <td>1</td>\n",
       "    </tr>\n",
       "    <tr>\n",
       "      <th>...</th>\n",
       "      <td>...</td>\n",
       "      <td>...</td>\n",
       "      <td>...</td>\n",
       "      <td>...</td>\n",
       "      <td>...</td>\n",
       "      <td>...</td>\n",
       "      <td>...</td>\n",
       "      <td>...</td>\n",
       "      <td>...</td>\n",
       "    </tr>\n",
       "    <tr>\n",
       "      <th>1304</th>\n",
       "      <td>1305</td>\n",
       "      <td>3</td>\n",
       "      <td>male</td>\n",
       "      <td>0</td>\n",
       "      <td>S</td>\n",
       "      <td>1</td>\n",
       "      <td>0</td>\n",
       "      <td>0</td>\n",
       "      <td>1</td>\n",
       "    </tr>\n",
       "    <tr>\n",
       "      <th>1305</th>\n",
       "      <td>1306</td>\n",
       "      <td>1</td>\n",
       "      <td>female</td>\n",
       "      <td>0</td>\n",
       "      <td>C</td>\n",
       "      <td>0</td>\n",
       "      <td>1</td>\n",
       "      <td>0</td>\n",
       "      <td>0</td>\n",
       "    </tr>\n",
       "    <tr>\n",
       "      <th>1306</th>\n",
       "      <td>1307</td>\n",
       "      <td>3</td>\n",
       "      <td>male</td>\n",
       "      <td>0</td>\n",
       "      <td>S</td>\n",
       "      <td>1</td>\n",
       "      <td>0</td>\n",
       "      <td>0</td>\n",
       "      <td>1</td>\n",
       "    </tr>\n",
       "    <tr>\n",
       "      <th>1307</th>\n",
       "      <td>1308</td>\n",
       "      <td>3</td>\n",
       "      <td>male</td>\n",
       "      <td>0</td>\n",
       "      <td>S</td>\n",
       "      <td>1</td>\n",
       "      <td>0</td>\n",
       "      <td>0</td>\n",
       "      <td>1</td>\n",
       "    </tr>\n",
       "    <tr>\n",
       "      <th>1308</th>\n",
       "      <td>1309</td>\n",
       "      <td>3</td>\n",
       "      <td>male</td>\n",
       "      <td>1</td>\n",
       "      <td>C</td>\n",
       "      <td>1</td>\n",
       "      <td>1</td>\n",
       "      <td>0</td>\n",
       "      <td>0</td>\n",
       "    </tr>\n",
       "  </tbody>\n",
       "</table>\n",
       "<p>1272 rows × 9 columns</p>\n",
       "</div>"
      ],
      "text/plain": [
       "      PassengerId  PClass  Gender  Sibling Embarked  new_Gender  C  Q  S\n",
       "0               1       3    male        1        S           1  0  0  1\n",
       "1               2       1  female        1        C           0  1  0  0\n",
       "2               3       3  female        0        S           0  0  0  1\n",
       "3               4       1  female        1        S           0  0  0  1\n",
       "4               5       3    male        0        S           1  0  0  1\n",
       "...           ...     ...     ...      ...      ...         ... .. .. ..\n",
       "1304         1305       3    male        0        S           1  0  0  1\n",
       "1305         1306       1  female        0        C           0  1  0  0\n",
       "1306         1307       3    male        0        S           1  0  0  1\n",
       "1307         1308       3    male        0        S           1  0  0  1\n",
       "1308         1309       3    male        1        C           1  1  0  0\n",
       "\n",
       "[1272 rows x 9 columns]"
      ]
     },
     "execution_count": 12,
     "metadata": {},
     "output_type": "execute_result"
    }
   ],
   "source": [
    "merged"
   ]
  },
  {
   "cell_type": "code",
   "execution_count": 13,
   "metadata": {},
   "outputs": [
    {
     "data": {
      "text/html": [
       "<div>\n",
       "<style scoped>\n",
       "    .dataframe tbody tr th:only-of-type {\n",
       "        vertical-align: middle;\n",
       "    }\n",
       "\n",
       "    .dataframe tbody tr th {\n",
       "        vertical-align: top;\n",
       "    }\n",
       "\n",
       "    .dataframe thead th {\n",
       "        text-align: right;\n",
       "    }\n",
       "</style>\n",
       "<table border=\"1\" class=\"dataframe\">\n",
       "  <thead>\n",
       "    <tr style=\"text-align: right;\">\n",
       "      <th></th>\n",
       "      <th>PClass</th>\n",
       "      <th>Sibling</th>\n",
       "      <th>new_Gender</th>\n",
       "      <th>C</th>\n",
       "      <th>Q</th>\n",
       "    </tr>\n",
       "  </thead>\n",
       "  <tbody>\n",
       "    <tr>\n",
       "      <th>0</th>\n",
       "      <td>3</td>\n",
       "      <td>1</td>\n",
       "      <td>1</td>\n",
       "      <td>0</td>\n",
       "      <td>0</td>\n",
       "    </tr>\n",
       "    <tr>\n",
       "      <th>1</th>\n",
       "      <td>1</td>\n",
       "      <td>1</td>\n",
       "      <td>0</td>\n",
       "      <td>1</td>\n",
       "      <td>0</td>\n",
       "    </tr>\n",
       "    <tr>\n",
       "      <th>2</th>\n",
       "      <td>3</td>\n",
       "      <td>0</td>\n",
       "      <td>0</td>\n",
       "      <td>0</td>\n",
       "      <td>0</td>\n",
       "    </tr>\n",
       "    <tr>\n",
       "      <th>3</th>\n",
       "      <td>1</td>\n",
       "      <td>1</td>\n",
       "      <td>0</td>\n",
       "      <td>0</td>\n",
       "      <td>0</td>\n",
       "    </tr>\n",
       "    <tr>\n",
       "      <th>4</th>\n",
       "      <td>3</td>\n",
       "      <td>0</td>\n",
       "      <td>1</td>\n",
       "      <td>0</td>\n",
       "      <td>0</td>\n",
       "    </tr>\n",
       "  </tbody>\n",
       "</table>\n",
       "</div>"
      ],
      "text/plain": [
       "   PClass  Sibling  new_Gender  C  Q\n",
       "0       3        1           1  0  0\n",
       "1       1        1           0  1  0\n",
       "2       3        0           0  0  0\n",
       "3       1        1           0  0  0\n",
       "4       3        0           1  0  0"
      ]
     },
     "execution_count": 13,
     "metadata": {},
     "output_type": "execute_result"
    }
   ],
   "source": [
    "final=merged.drop([\"PassengerId\",\"Gender\",\"Embarked\",\"S\"],axis=\"columns\")\n",
    "final.head()"
   ]
  },
  {
   "cell_type": "code",
   "execution_count": 14,
   "metadata": {},
   "outputs": [],
   "source": [
    "from sklearn.linear_model import LogisticRegression\n",
    "model0=LogisticRegression()\n",
    "from sklearn.ensemble import RandomForestClassifier\n",
    "model1=RandomForestClassifier()\n",
    "from sklearn.svm import SVC\n",
    "model2=SVC()\n",
    "from sklearn.tree import DecisionTreeClassifier\n",
    "model3=DecisionTreeClassifier()\n",
    "from sklearn.neighbors import KNeighborsClassifier\n",
    "model4=KNeighborsClassifier()\n",
    "from sklearn.naive_bayes import GaussianNB\n",
    "model5=GaussianNB()\n",
    "from sklearn.discriminant_analysis import LinearDiscriminantAnalysis\n",
    "model6=LinearDiscriminantAnalysis()\n",
    "from sklearn.linear_model import SGDClassifier\n",
    "model7=SGDClassifier()\n",
    "from sklearn.neural_network import MLPClassifier\n",
    "model8=MLPClassifier()\n",
    "from sklearn.naive_bayes import BernoulliNB\n",
    "model9=BernoulliNB()"
   ]
  },
  {
   "cell_type": "code",
   "execution_count": 15,
   "metadata": {},
   "outputs": [],
   "source": [
    "from sklearn.model_selection import KFold"
   ]
  },
  {
   "cell_type": "code",
   "execution_count": 16,
   "metadata": {},
   "outputs": [
    {
     "data": {
      "text/plain": [
       "KFold(n_splits=10, random_state=None, shuffle=False)"
      ]
     },
     "execution_count": 16,
     "metadata": {},
     "output_type": "execute_result"
    }
   ],
   "source": [
    "kf=KFold(n_splits=10)\n",
    "kf"
   ]
  },
  {
   "cell_type": "code",
   "execution_count": 17,
   "metadata": {},
   "outputs": [],
   "source": [
    "def get_train(model, X_train, X_test, Y_train, Y_test):\n",
    "    model.fit(X_train,Y_train)\n",
    "    return model.score(X_test,Y_test)"
   ]
  },
  {
   "cell_type": "code",
   "execution_count": 18,
   "metadata": {},
   "outputs": [
    {
     "data": {
      "text/plain": [
       "[0.8046875,\n",
       " 0.796875,\n",
       " 0.8267716535433071,\n",
       " 0.7637795275590551,\n",
       " 0.7480314960629921,\n",
       " 0.8031496062992126,\n",
       " 0.8346456692913385,\n",
       " 1.0,\n",
       " 1.0,\n",
       " 1.0]"
      ]
     },
     "execution_count": 18,
     "metadata": {},
     "output_type": "execute_result"
    }
   ],
   "source": [
    "scoresLR=[]\n",
    "\n",
    "for train_index,test_index in kf.split(final):\n",
    "    x_train, x_test= final.values[train_index], final.values[test_index]\n",
    "    y_train, y_test= Target.values[train_index], Target.values[test_index]\n",
    "    scoresLR.append(get_train(model0, x_train, x_test, y_train, y_test))\n",
    "\n",
    "\n",
    "scoresLR"
   ]
  },
  {
   "cell_type": "code",
   "execution_count": 19,
   "metadata": {},
   "outputs": [
    {
     "data": {
      "text/plain": [
       "[0.8046875,\n",
       " 0.8046875,\n",
       " 0.8346456692913385,\n",
       " 0.7874015748031497,\n",
       " 0.7637795275590551,\n",
       " 0.8031496062992126,\n",
       " 0.8346456692913385,\n",
       " 1.0,\n",
       " 1.0,\n",
       " 0.9921259842519685]"
      ]
     },
     "execution_count": 19,
     "metadata": {},
     "output_type": "execute_result"
    }
   ],
   "source": [
    "scoresRF=[]\n",
    "\n",
    "for train_index,test_index in kf.split(final):\n",
    "    x_train, x_test= final.values[train_index], final.values[test_index]\n",
    "    y_train, y_test= Target.values[train_index], Target.values[test_index]\n",
    "    scoresRF.append(get_train(model1, x_train, x_test, y_train, y_test))\n",
    "\n",
    "\n",
    "scoresRF"
   ]
  },
  {
   "cell_type": "code",
   "execution_count": 20,
   "metadata": {},
   "outputs": [
    {
     "data": {
      "text/plain": [
       "[0.8046875,\n",
       " 0.8046875,\n",
       " 0.8346456692913385,\n",
       " 0.7795275590551181,\n",
       " 0.7637795275590551,\n",
       " 0.8031496062992126,\n",
       " 0.8346456692913385,\n",
       " 1.0,\n",
       " 1.0,\n",
       " 1.0]"
      ]
     },
     "execution_count": 20,
     "metadata": {},
     "output_type": "execute_result"
    }
   ],
   "source": [
    "scoresSVM=[]\n",
    "\n",
    "for train_index,test_index in kf.split(final):\n",
    "    x_train, x_test= final.values[train_index], final.values[test_index]\n",
    "    y_train, y_test= Target.values[train_index], Target.values[test_index]\n",
    "    scoresSVM.append(get_train(model2, x_train, x_test, y_train, y_test))\n",
    "\n",
    "\n",
    "scoresSVM"
   ]
  },
  {
   "cell_type": "code",
   "execution_count": 21,
   "metadata": {},
   "outputs": [
    {
     "data": {
      "text/plain": [
       "[0.8046875,\n",
       " 0.8046875,\n",
       " 0.8346456692913385,\n",
       " 0.7874015748031497,\n",
       " 0.7637795275590551,\n",
       " 0.8031496062992126,\n",
       " 0.8346456692913385,\n",
       " 0.9921259842519685,\n",
       " 1.0,\n",
       " 0.9921259842519685]"
      ]
     },
     "execution_count": 21,
     "metadata": {},
     "output_type": "execute_result"
    }
   ],
   "source": [
    "scoresDT=[]\n",
    "\n",
    "for train_index,test_index in kf.split(final):\n",
    "    x_train, x_test= final.values[train_index], final.values[test_index]\n",
    "    y_train, y_test= Target.values[train_index], Target.values[test_index]\n",
    "    scoresDT.append(get_train(model3, x_train, x_test, y_train, y_test))\n",
    "\n",
    "\n",
    "scoresDT"
   ]
  },
  {
   "cell_type": "code",
   "execution_count": 22,
   "metadata": {},
   "outputs": [
    {
     "data": {
      "text/plain": [
       "[0.7421875,\n",
       " 0.796875,\n",
       " 0.8188976377952756,\n",
       " 0.7795275590551181,\n",
       " 0.7637795275590551,\n",
       " 0.8031496062992126,\n",
       " 0.8267716535433071,\n",
       " 0.9448818897637795,\n",
       " 0.905511811023622,\n",
       " 0.9212598425196851]"
      ]
     },
     "execution_count": 22,
     "metadata": {},
     "output_type": "execute_result"
    }
   ],
   "source": [
    "scoresKN=[]\n",
    "\n",
    "for train_index,test_index in kf.split(final):\n",
    "    x_train, x_test= final.values[train_index], final.values[test_index]\n",
    "    y_train, y_test= Target.values[train_index], Target.values[test_index]\n",
    "    scoresKN.append(get_train(model4, x_train, x_test, y_train, y_test))\n",
    "\n",
    "\n",
    "scoresKN"
   ]
  },
  {
   "cell_type": "code",
   "execution_count": 23,
   "metadata": {},
   "outputs": [
    {
     "data": {
      "text/plain": [
       "[0.8046875,\n",
       " 0.7890625,\n",
       " 0.8267716535433071,\n",
       " 0.7637795275590551,\n",
       " 0.7480314960629921,\n",
       " 0.8031496062992126,\n",
       " 0.8346456692913385,\n",
       " 0.9921259842519685,\n",
       " 1.0,\n",
       " 1.0]"
      ]
     },
     "execution_count": 23,
     "metadata": {},
     "output_type": "execute_result"
    }
   ],
   "source": [
    "scoresNB=[]\n",
    "\n",
    "for train_index,test_index in kf.split(final):\n",
    "    x_train, x_test= final.values[train_index], final.values[test_index]\n",
    "    y_train, y_test= Target.values[train_index], Target.values[test_index]\n",
    "    scoresNB.append(get_train(model5, x_train, x_test, y_train, y_test))\n",
    "\n",
    "\n",
    "scoresNB"
   ]
  },
  {
   "cell_type": "code",
   "execution_count": 24,
   "metadata": {},
   "outputs": [
    {
     "data": {
      "text/plain": [
       "[0.8046875,\n",
       " 0.796875,\n",
       " 0.8267716535433071,\n",
       " 0.7637795275590551,\n",
       " 0.7480314960629921,\n",
       " 0.8031496062992126,\n",
       " 0.8346456692913385,\n",
       " 1.0,\n",
       " 1.0,\n",
       " 1.0]"
      ]
     },
     "execution_count": 24,
     "metadata": {},
     "output_type": "execute_result"
    }
   ],
   "source": [
    "scoresDA=[]\n",
    "\n",
    "for train_index,test_index in kf.split(final):\n",
    "    x_train, x_test= final.values[train_index], final.values[test_index]\n",
    "    y_train, y_test= Target.values[train_index], Target.values[test_index]\n",
    "    scoresDA.append(get_train(model6, x_train, x_test, y_train, y_test))\n",
    "\n",
    "\n",
    "scoresDA"
   ]
  },
  {
   "cell_type": "code",
   "execution_count": 25,
   "metadata": {},
   "outputs": [
    {
     "data": {
      "text/plain": [
       "[0.8046875,\n",
       " 0.796875,\n",
       " 0.8267716535433071,\n",
       " 0.7637795275590551,\n",
       " 0.7480314960629921,\n",
       " 0.8031496062992126,\n",
       " 0.8346456692913385,\n",
       " 0.7952755905511811,\n",
       " 1.0,\n",
       " 0.9921259842519685]"
      ]
     },
     "execution_count": 25,
     "metadata": {},
     "output_type": "execute_result"
    }
   ],
   "source": [
    "scoresSGD=[]\n",
    "\n",
    "for train_index,test_index in kf.split(final):\n",
    "    x_train, x_test= final.values[train_index], final.values[test_index]\n",
    "    y_train, y_test= Target.values[train_index], Target.values[test_index]\n",
    "    scoresSGD.append(get_train(model7, x_train, x_test, y_train, y_test))\n",
    "\n",
    "\n",
    "scoresSGD"
   ]
  },
  {
   "cell_type": "code",
   "execution_count": 26,
   "metadata": {},
   "outputs": [
    {
     "name": "stderr",
     "output_type": "stream",
     "text": [
      "C:\\Users\\Haseeb\\anaconda3\\lib\\site-packages\\sklearn\\neural_network\\_multilayer_perceptron.py:571: ConvergenceWarning: Stochastic Optimizer: Maximum iterations (200) reached and the optimization hasn't converged yet.\n",
      "  % self.max_iter, ConvergenceWarning)\n",
      "C:\\Users\\Haseeb\\anaconda3\\lib\\site-packages\\sklearn\\neural_network\\_multilayer_perceptron.py:571: ConvergenceWarning: Stochastic Optimizer: Maximum iterations (200) reached and the optimization hasn't converged yet.\n",
      "  % self.max_iter, ConvergenceWarning)\n",
      "C:\\Users\\Haseeb\\anaconda3\\lib\\site-packages\\sklearn\\neural_network\\_multilayer_perceptron.py:571: ConvergenceWarning: Stochastic Optimizer: Maximum iterations (200) reached and the optimization hasn't converged yet.\n",
      "  % self.max_iter, ConvergenceWarning)\n",
      "C:\\Users\\Haseeb\\anaconda3\\lib\\site-packages\\sklearn\\neural_network\\_multilayer_perceptron.py:571: ConvergenceWarning: Stochastic Optimizer: Maximum iterations (200) reached and the optimization hasn't converged yet.\n",
      "  % self.max_iter, ConvergenceWarning)\n",
      "C:\\Users\\Haseeb\\anaconda3\\lib\\site-packages\\sklearn\\neural_network\\_multilayer_perceptron.py:571: ConvergenceWarning: Stochastic Optimizer: Maximum iterations (200) reached and the optimization hasn't converged yet.\n",
      "  % self.max_iter, ConvergenceWarning)\n",
      "C:\\Users\\Haseeb\\anaconda3\\lib\\site-packages\\sklearn\\neural_network\\_multilayer_perceptron.py:571: ConvergenceWarning: Stochastic Optimizer: Maximum iterations (200) reached and the optimization hasn't converged yet.\n",
      "  % self.max_iter, ConvergenceWarning)\n",
      "C:\\Users\\Haseeb\\anaconda3\\lib\\site-packages\\sklearn\\neural_network\\_multilayer_perceptron.py:571: ConvergenceWarning: Stochastic Optimizer: Maximum iterations (200) reached and the optimization hasn't converged yet.\n",
      "  % self.max_iter, ConvergenceWarning)\n",
      "C:\\Users\\Haseeb\\anaconda3\\lib\\site-packages\\sklearn\\neural_network\\_multilayer_perceptron.py:571: ConvergenceWarning: Stochastic Optimizer: Maximum iterations (200) reached and the optimization hasn't converged yet.\n",
      "  % self.max_iter, ConvergenceWarning)\n",
      "C:\\Users\\Haseeb\\anaconda3\\lib\\site-packages\\sklearn\\neural_network\\_multilayer_perceptron.py:571: ConvergenceWarning: Stochastic Optimizer: Maximum iterations (200) reached and the optimization hasn't converged yet.\n",
      "  % self.max_iter, ConvergenceWarning)\n"
     ]
    },
    {
     "data": {
      "text/plain": [
       "[0.8046875,\n",
       " 0.8046875,\n",
       " 0.8346456692913385,\n",
       " 0.7795275590551181,\n",
       " 0.7637795275590551,\n",
       " 0.8031496062992126,\n",
       " 0.8346456692913385,\n",
       " 1.0,\n",
       " 1.0,\n",
       " 0.9921259842519685]"
      ]
     },
     "execution_count": 26,
     "metadata": {},
     "output_type": "execute_result"
    }
   ],
   "source": [
    "scoresMLP=[]\n",
    "\n",
    "for train_index,test_index in kf.split(final):\n",
    "    x_train, x_test= final.values[train_index], final.values[test_index]\n",
    "    y_train, y_test= Target.values[train_index], Target.values[test_index]\n",
    "    scoresMLP.append(get_train(model8, x_train, x_test, y_train, y_test))\n",
    "\n",
    "\n",
    "scoresMLP"
   ]
  },
  {
   "cell_type": "code",
   "execution_count": 27,
   "metadata": {},
   "outputs": [
    {
     "data": {
      "text/plain": [
       "[0.8046875,\n",
       " 0.796875,\n",
       " 0.8267716535433071,\n",
       " 0.7637795275590551,\n",
       " 0.7480314960629921,\n",
       " 0.8031496062992126,\n",
       " 0.8346456692913385,\n",
       " 1.0,\n",
       " 1.0,\n",
       " 1.0]"
      ]
     },
     "execution_count": 27,
     "metadata": {},
     "output_type": "execute_result"
    }
   ],
   "source": [
    "scoresBNB=[]\n",
    "\n",
    "for train_index,test_index in kf.split(final):\n",
    "    x_train, x_test= final.values[train_index], final.values[test_index]\n",
    "    y_train, y_test= Target.values[train_index], Target.values[test_index]\n",
    "    scoresBNB.append(get_train(model9, x_train, x_test, y_train, y_test))\n",
    "\n",
    "\n",
    "scoresBNB"
   ]
  },
  {
   "cell_type": "code",
   "execution_count": 28,
   "metadata": {},
   "outputs": [],
   "source": [
    "def get_Avg_score(Score):\n",
    "    avg=0\n",
    "    for i in range(10):\n",
    "        avg=avg+Score[i]\n",
    "    s=avg/10\n",
    "    return s"
   ]
  },
  {
   "cell_type": "code",
   "execution_count": 29,
   "metadata": {},
   "outputs": [],
   "source": [
    "Avg_Score_kfv=[]"
   ]
  },
  {
   "cell_type": "code",
   "execution_count": 30,
   "metadata": {},
   "outputs": [
    {
     "data": {
      "text/plain": [
       "0.8577940452755906"
      ]
     },
     "execution_count": 30,
     "metadata": {},
     "output_type": "execute_result"
    }
   ],
   "source": [
    "avg_score_LR=get_Avg_score(scoresLR)\n",
    "Avg_Score_kfv.append(avg_score_LR)\n",
    "avg_score_LR"
   ]
  },
  {
   "cell_type": "code",
   "execution_count": 31,
   "metadata": {},
   "outputs": [
    {
     "data": {
      "text/plain": [
       "0.8625123031496063"
      ]
     },
     "execution_count": 31,
     "metadata": {},
     "output_type": "execute_result"
    }
   ],
   "source": [
    "avg_score_RF=get_Avg_score(scoresRF)\n",
    "Avg_Score_kfv.append(avg_score_RF)\n",
    "Avg_Score_kfv[1]"
   ]
  },
  {
   "cell_type": "code",
   "execution_count": 32,
   "metadata": {},
   "outputs": [
    {
     "data": {
      "text/plain": [
       "0.8625123031496063"
      ]
     },
     "execution_count": 32,
     "metadata": {},
     "output_type": "execute_result"
    }
   ],
   "source": [
    "avg_score_SVM=get_Avg_score(scoresSVM)\n",
    "Avg_Score_kfv.append(avg_score_SVM)\n",
    "Avg_Score_kfv[2]"
   ]
  },
  {
   "cell_type": "code",
   "execution_count": 33,
   "metadata": {},
   "outputs": [
    {
     "data": {
      "text/plain": [
       "0.8617249015748032"
      ]
     },
     "execution_count": 33,
     "metadata": {},
     "output_type": "execute_result"
    }
   ],
   "source": [
    "avg_score_DT=get_Avg_score(scoresDT)\n",
    "Avg_Score_kfv.append(avg_score_DT)\n",
    "Avg_Score_kfv[3]"
   ]
  },
  {
   "cell_type": "code",
   "execution_count": 34,
   "metadata": {},
   "outputs": [
    {
     "data": {
      "text/plain": [
       "0.8302842027559055"
      ]
     },
     "execution_count": 34,
     "metadata": {},
     "output_type": "execute_result"
    }
   ],
   "source": [
    "avg_score_KN=get_Avg_score(scoresKN)\n",
    "Avg_Score_kfv.append(avg_score_KN)\n",
    "Avg_Score_kfv[4]"
   ]
  },
  {
   "cell_type": "code",
   "execution_count": 35,
   "metadata": {},
   "outputs": [
    {
     "data": {
      "text/plain": [
       "0.8562253937007874"
      ]
     },
     "execution_count": 35,
     "metadata": {},
     "output_type": "execute_result"
    }
   ],
   "source": [
    "avg_score_NB=get_Avg_score(scoresNB)\n",
    "Avg_Score_kfv.append(avg_score_NB)\n",
    "Avg_Score_kfv[5]"
   ]
  },
  {
   "cell_type": "code",
   "execution_count": 36,
   "metadata": {},
   "outputs": [
    {
     "data": {
      "text/plain": [
       "0.8577940452755906"
      ]
     },
     "execution_count": 36,
     "metadata": {},
     "output_type": "execute_result"
    }
   ],
   "source": [
    "avg_score_DA=get_Avg_score(scoresDA)\n",
    "Avg_Score_kfv.append(avg_score_DA)\n",
    "Avg_Score_kfv[6]"
   ]
  },
  {
   "cell_type": "code",
   "execution_count": 37,
   "metadata": {},
   "outputs": [
    {
     "data": {
      "text/plain": [
       "0.8365342027559055"
      ]
     },
     "execution_count": 37,
     "metadata": {},
     "output_type": "execute_result"
    }
   ],
   "source": [
    "avg_score_SGD=get_Avg_score(scoresSGD)\n",
    "Avg_Score_kfv.append(avg_score_SGD)\n",
    "Avg_Score_kfv[7]"
   ]
  },
  {
   "cell_type": "code",
   "execution_count": 38,
   "metadata": {},
   "outputs": [
    {
     "data": {
      "text/plain": [
       "0.8617249015748032"
      ]
     },
     "execution_count": 38,
     "metadata": {},
     "output_type": "execute_result"
    }
   ],
   "source": [
    "avg_score_MLP=get_Avg_score(scoresMLP)\n",
    "Avg_Score_kfv.append(avg_score_MLP)\n",
    "Avg_Score_kfv[8]"
   ]
  },
  {
   "cell_type": "code",
   "execution_count": 39,
   "metadata": {},
   "outputs": [
    {
     "data": {
      "text/plain": [
       "0.8577940452755906"
      ]
     },
     "execution_count": 39,
     "metadata": {},
     "output_type": "execute_result"
    }
   ],
   "source": [
    "avg_score_BNB=get_Avg_score(scoresBNB)\n",
    "Avg_Score_kfv.append(avg_score_BNB)\n",
    "Avg_Score_kfv[9]"
   ]
  },
  {
   "cell_type": "code",
   "execution_count": 40,
   "metadata": {},
   "outputs": [
    {
     "data": {
      "text/plain": [
       "[0.8577940452755906,\n",
       " 0.8625123031496063,\n",
       " 0.8625123031496063,\n",
       " 0.8617249015748032,\n",
       " 0.8302842027559055,\n",
       " 0.8562253937007874,\n",
       " 0.8577940452755906,\n",
       " 0.8365342027559055,\n",
       " 0.8617249015748032,\n",
       " 0.8577940452755906]"
      ]
     },
     "execution_count": 40,
     "metadata": {},
     "output_type": "execute_result"
    }
   ],
   "source": [
    "Avg_Score_kfv"
   ]
  },
  {
   "cell_type": "code",
   "execution_count": 41,
   "metadata": {},
   "outputs": [],
   "source": [
    "Models_collection=[]\n",
    "Models_collection.append(model0)\n",
    "Models_collection.append(model1)\n",
    "Models_collection.append(model2)\n",
    "Models_collection.append(model3)\n",
    "Models_collection.append(model4)\n",
    "Models_collection.append(model5)\n",
    "Models_collection.append(model6)\n",
    "Models_collection.append(model7)\n",
    "Models_collection.append(model8)\n",
    "Models_collection.append(model9)"
   ]
  },
  {
   "cell_type": "code",
   "execution_count": 42,
   "metadata": {},
   "outputs": [
    {
     "data": {
      "text/plain": [
       "[LogisticRegression(C=1.0, class_weight=None, dual=False, fit_intercept=True,\n",
       "                    intercept_scaling=1, l1_ratio=None, max_iter=100,\n",
       "                    multi_class='auto', n_jobs=None, penalty='l2',\n",
       "                    random_state=None, solver='lbfgs', tol=0.0001, verbose=0,\n",
       "                    warm_start=False),\n",
       " RandomForestClassifier(bootstrap=True, ccp_alpha=0.0, class_weight=None,\n",
       "                        criterion='gini', max_depth=None, max_features='auto',\n",
       "                        max_leaf_nodes=None, max_samples=None,\n",
       "                        min_impurity_decrease=0.0, min_impurity_split=None,\n",
       "                        min_samples_leaf=1, min_samples_split=2,\n",
       "                        min_weight_fraction_leaf=0.0, n_estimators=100,\n",
       "                        n_jobs=None, oob_score=False, random_state=None,\n",
       "                        verbose=0, warm_start=False),\n",
       " SVC(C=1.0, break_ties=False, cache_size=200, class_weight=None, coef0=0.0,\n",
       "     decision_function_shape='ovr', degree=3, gamma='scale', kernel='rbf',\n",
       "     max_iter=-1, probability=False, random_state=None, shrinking=True,\n",
       "     tol=0.001, verbose=False),\n",
       " DecisionTreeClassifier(ccp_alpha=0.0, class_weight=None, criterion='gini',\n",
       "                        max_depth=None, max_features=None, max_leaf_nodes=None,\n",
       "                        min_impurity_decrease=0.0, min_impurity_split=None,\n",
       "                        min_samples_leaf=1, min_samples_split=2,\n",
       "                        min_weight_fraction_leaf=0.0, presort='deprecated',\n",
       "                        random_state=None, splitter='best'),\n",
       " KNeighborsClassifier(algorithm='auto', leaf_size=30, metric='minkowski',\n",
       "                      metric_params=None, n_jobs=None, n_neighbors=5, p=2,\n",
       "                      weights='uniform'),\n",
       " GaussianNB(priors=None, var_smoothing=1e-09),\n",
       " LinearDiscriminantAnalysis(n_components=None, priors=None, shrinkage=None,\n",
       "                            solver='svd', store_covariance=False, tol=0.0001),\n",
       " SGDClassifier(alpha=0.0001, average=False, class_weight=None,\n",
       "               early_stopping=False, epsilon=0.1, eta0=0.0, fit_intercept=True,\n",
       "               l1_ratio=0.15, learning_rate='optimal', loss='hinge',\n",
       "               max_iter=1000, n_iter_no_change=5, n_jobs=None, penalty='l2',\n",
       "               power_t=0.5, random_state=None, shuffle=True, tol=0.001,\n",
       "               validation_fraction=0.1, verbose=0, warm_start=False),\n",
       " MLPClassifier(activation='relu', alpha=0.0001, batch_size='auto', beta_1=0.9,\n",
       "               beta_2=0.999, early_stopping=False, epsilon=1e-08,\n",
       "               hidden_layer_sizes=(100,), learning_rate='constant',\n",
       "               learning_rate_init=0.001, max_fun=15000, max_iter=200,\n",
       "               momentum=0.9, n_iter_no_change=10, nesterovs_momentum=True,\n",
       "               power_t=0.5, random_state=None, shuffle=True, solver='adam',\n",
       "               tol=0.0001, validation_fraction=0.1, verbose=False,\n",
       "               warm_start=False),\n",
       " BernoulliNB(alpha=1.0, binarize=0.0, class_prior=None, fit_prior=True)]"
      ]
     },
     "execution_count": 42,
     "metadata": {},
     "output_type": "execute_result"
    }
   ],
   "source": [
    "Models_collection"
   ]
  },
  {
   "cell_type": "code",
   "execution_count": 43,
   "metadata": {},
   "outputs": [],
   "source": [
    "def model_selection_ScoreBase(Score):\n",
    "    i=0\n",
    "    for j in range(len(Score)-1):\n",
    "        if Score[i]<Score[j]:\n",
    "            i=j\n",
    "    return i"
   ]
  },
  {
   "cell_type": "code",
   "execution_count": 44,
   "metadata": {},
   "outputs": [
    {
     "data": {
      "text/plain": [
       "1"
      ]
     },
     "execution_count": 44,
     "metadata": {},
     "output_type": "execute_result"
    }
   ],
   "source": [
    "Best_kfv_model=model_selection_ScoreBase(Avg_Score_kfv)\n",
    "Best_kfv_model"
   ]
  },
  {
   "cell_type": "code",
   "execution_count": 45,
   "metadata": {},
   "outputs": [
    {
     "data": {
      "text/plain": [
       "RandomForestClassifier(bootstrap=True, ccp_alpha=0.0, class_weight=None,\n",
       "                       criterion='gini', max_depth=None, max_features='auto',\n",
       "                       max_leaf_nodes=None, max_samples=None,\n",
       "                       min_impurity_decrease=0.0, min_impurity_split=None,\n",
       "                       min_samples_leaf=1, min_samples_split=2,\n",
       "                       min_weight_fraction_leaf=0.0, n_estimators=100,\n",
       "                       n_jobs=None, oob_score=False, random_state=None,\n",
       "                       verbose=0, warm_start=False)"
      ]
     },
     "execution_count": 45,
     "metadata": {},
     "output_type": "execute_result"
    }
   ],
   "source": [
    "Models_collection[Best_kfv_model]"
   ]
  },
  {
   "cell_type": "code",
   "execution_count": 46,
   "metadata": {},
   "outputs": [
    {
     "data": {
      "text/plain": [
       "0.8625123031496063"
      ]
     },
     "execution_count": 46,
     "metadata": {},
     "output_type": "execute_result"
    }
   ],
   "source": [
    "Avg_Score_kfv[Best_kfv_model]"
   ]
  },
  {
   "cell_type": "code",
   "execution_count": 47,
   "metadata": {},
   "outputs": [],
   "source": [
    "predictLR=model0.predict(final)\n",
    "predictRF=model1.predict(final)\n",
    "predictSVM=model2.predict(final)\n",
    "predictDT=model3.predict(final)\n",
    "predictKN=model4.predict(final)\n",
    "predictNB=model5.predict(final)\n",
    "predictDA=model6.predict(final)\n",
    "predictSGD=model7.predict(final)\n",
    "predictMLP=model8.predict(final)\n",
    "predictBNB=model9.predict(final)"
   ]
  },
  {
   "cell_type": "code",
   "execution_count": 48,
   "metadata": {},
   "outputs": [],
   "source": [
    "Accuracy_Collection=[]"
   ]
  },
  {
   "cell_type": "code",
   "execution_count": 49,
   "metadata": {},
   "outputs": [],
   "source": [
    "from sklearn.metrics import confusion_matrix\n",
    "def get_stats(trueVal,predicted):\n",
    "    cm=confusion_matrix(trueVal,predicted)\n",
    "    print(\"Confusion Matrix of model\")\n",
    "    print(cm)\n",
    "    %matplotlib inline\n",
    "    import matplotlib.pyplot as plt\n",
    "    import seaborn as sn\n",
    "    plt.figure(figsize=(5,2.5))\n",
    "    sn.heatmap(cm, annot=True)\n",
    "    plt.xlabel('Predicted')\n",
    "    plt.ylabel('Actual')\n",
    "    a=cm[0][0]\n",
    "    b=cm[0][1]\n",
    "    c=cm[1][0]\n",
    "    d=cm[1][1]\n",
    "    Baseline=(max(a+b,c+d))/(a+b+c+d)\n",
    "    print(\"Model's baseline is:\", Baseline)\n",
    "    Acuracy=(a+d)/(a+b+c+d)\n",
    "    Accuracy_Collection.append(Acuracy)\n",
    "    print(\"Model's accuracy is:\", Acuracy)\n",
    "    Recall=(d)/(c+d)\n",
    "    print(\"Model's recall is:\", Recall)\n",
    "    Precision=(d)/(b+d)\n",
    "    print(\"Model's precision is:\", Precision)\n",
    "    f1=(2*Precision*Recall)/(Precision+Recall)\n",
    "    print(\"Model's F1 is:\", f1)"
   ]
  },
  {
   "cell_type": "code",
   "execution_count": 50,
   "metadata": {},
   "outputs": [
    {
     "name": "stdout",
     "output_type": "stream",
     "text": [
      "Confusion Matrix of model\n",
      "[[711  73]\n",
      " [108 380]]\n",
      "Model's baseline is: 0.6163522012578616\n",
      "Model's accuracy is: 0.8577044025157232\n",
      "Model's recall is: 0.7786885245901639\n",
      "Model's precision is: 0.8388520971302428\n",
      "Model's F1 is: 0.8076514346439957\n"
     ]
    },
    {
     "data": {
      "image/png": "[encoded data removed]",
      "text/plain": [
       "<Figure size 360x180 with 2 Axes>"
      ]
     },
     "metadata": {
      "needs_background": "light"
     },
     "output_type": "display_data"
    }
   ],
   "source": [
    "get_stats(Target,predictLR)"
   ]
  },
  {
   "cell_type": "code",
   "execution_count": 51,
   "metadata": {},
   "outputs": [
    {
     "name": "stdout",
     "output_type": "stream",
     "text": [
      "Confusion Matrix of model\n",
      "[[721  63]\n",
      " [108 380]]\n",
      "Model's baseline is: 0.6163522012578616\n",
      "Model's accuracy is: 0.8655660377358491\n",
      "Model's recall is: 0.7786885245901639\n",
      "Model's precision is: 0.8577878103837472\n",
      "Model's F1 is: 0.8163265306122448\n"
     ]
    },
    {
     "data": {
      "image/png": "[encoded data removed]",
      "text/plain": [
       "<Figure size 360x180 with 2 Axes>"
      ]
     },
     "metadata": {
      "needs_background": "light"
     },
     "output_type": "display_data"
    }
   ],
   "source": [
    "get_stats(Target,predictRF)"
   ]
  },
  {
   "cell_type": "code",
   "execution_count": 52,
   "metadata": {},
   "outputs": [
    {
     "name": "stdout",
     "output_type": "stream",
     "text": [
      "Confusion Matrix of model\n",
      "[[718  66]\n",
      " [109 379]]\n",
      "Model's baseline is: 0.6163522012578616\n",
      "Model's accuracy is: 0.8624213836477987\n",
      "Model's recall is: 0.7766393442622951\n",
      "Model's precision is: 0.851685393258427\n",
      "Model's F1 is: 0.8124330117899251\n"
     ]
    },
    {
     "data": {
      "image/png": "[encoded data removed]",
      "text/plain": [
       "<Figure size 360x180 with 2 Axes>"
      ]
     },
     "metadata": {
      "needs_background": "light"
     },
     "output_type": "display_data"
    }
   ],
   "source": [
    "get_stats(Target,predictSVM)"
   ]
  },
  {
   "cell_type": "code",
   "execution_count": 53,
   "metadata": {},
   "outputs": [
    {
     "name": "stdout",
     "output_type": "stream",
     "text": [
      "Confusion Matrix of model\n",
      "[[721  63]\n",
      " [108 380]]\n",
      "Model's baseline is: 0.6163522012578616\n",
      "Model's accuracy is: 0.8655660377358491\n",
      "Model's recall is: 0.7786885245901639\n",
      "Model's precision is: 0.8577878103837472\n",
      "Model's F1 is: 0.8163265306122448\n"
     ]
    },
    {
     "data": {
      "image/png": "[encoded data removed]",
      "text/plain": [
       "<Figure size 360x180 with 2 Axes>"
      ]
     },
     "metadata": {
      "needs_background": "light"
     },
     "output_type": "display_data"
    }
   ],
   "source": [
    "get_stats(Target,predictDT)"
   ]
  },
  {
   "cell_type": "code",
   "execution_count": 54,
   "metadata": {},
   "outputs": [
    {
     "name": "stdout",
     "output_type": "stream",
     "text": [
      "Confusion Matrix of model\n",
      "[[717  67]\n",
      " [129 359]]\n",
      "Model's baseline is: 0.6163522012578616\n",
      "Model's accuracy is: 0.8459119496855346\n",
      "Model's recall is: 0.735655737704918\n",
      "Model's precision is: 0.8427230046948356\n",
      "Model's F1 is: 0.7855579868708972\n"
     ]
    },
    {
     "data": {
      "image/png": "[encoded data removed]",
      "text/plain": [
       "<Figure size 360x180 with 2 Axes>"
      ]
     },
     "metadata": {
      "needs_background": "light"
     },
     "output_type": "display_data"
    }
   ],
   "source": [
    "get_stats(Target,predictKN)"
   ]
  },
  {
   "cell_type": "code",
   "execution_count": 55,
   "metadata": {},
   "outputs": [
    {
     "name": "stdout",
     "output_type": "stream",
     "text": [
      "Confusion Matrix of model\n",
      "[[709  75]\n",
      " [108 380]]\n",
      "Model's baseline is: 0.6163522012578616\n",
      "Model's accuracy is: 0.8561320754716981\n",
      "Model's recall is: 0.7786885245901639\n",
      "Model's precision is: 0.8351648351648352\n",
      "Model's F1 is: 0.8059384941675504\n"
     ]
    },
    {
     "data": {
      "image/png": "[encoded data removed]",
      "text/plain": [
       "<Figure size 360x180 with 2 Axes>"
      ]
     },
     "metadata": {
      "needs_background": "light"
     },
     "output_type": "display_data"
    }
   ],
   "source": [
    "get_stats(Target,predictNB)"
   ]
  },
  {
   "cell_type": "code",
   "execution_count": 56,
   "metadata": {},
   "outputs": [
    {
     "name": "stdout",
     "output_type": "stream",
     "text": [
      "Confusion Matrix of model\n",
      "[[711  73]\n",
      " [108 380]]\n",
      "Model's baseline is: 0.6163522012578616\n",
      "Model's accuracy is: 0.8577044025157232\n",
      "Model's recall is: 0.7786885245901639\n",
      "Model's precision is: 0.8388520971302428\n",
      "Model's F1 is: 0.8076514346439957\n"
     ]
    },
    {
     "data": {
      "image/png": "[encoded data removed]",
      "text/plain": [
       "<Figure size 360x180 with 2 Axes>"
      ]
     },
     "metadata": {
      "needs_background": "light"
     },
     "output_type": "display_data"
    }
   ],
   "source": [
    "get_stats(Target,predictDA)"
   ]
  },
  {
   "cell_type": "code",
   "execution_count": 57,
   "metadata": {},
   "outputs": [
    {
     "name": "stdout",
     "output_type": "stream",
     "text": [
      "Confusion Matrix of model\n",
      "[[721  63]\n",
      " [114 374]]\n",
      "Model's baseline is: 0.6163522012578616\n",
      "Model's accuracy is: 0.8608490566037735\n",
      "Model's recall is: 0.7663934426229508\n",
      "Model's precision is: 0.8558352402745996\n",
      "Model's F1 is: 0.8086486486486486\n"
     ]
    },
    {
     "data": {
      "image/png": "[encoded data removed]",
      "text/plain": [
       "<Figure size 360x180 with 2 Axes>"
      ]
     },
     "metadata": {
      "needs_background": "light"
     },
     "output_type": "display_data"
    }
   ],
   "source": [
    "get_stats(Target,predictSGD)"
   ]
  },
  {
   "cell_type": "code",
   "execution_count": 58,
   "metadata": {},
   "outputs": [
    {
     "name": "stdout",
     "output_type": "stream",
     "text": [
      "Confusion Matrix of model\n",
      "[[721  63]\n",
      " [110 378]]\n",
      "Model's baseline is: 0.6163522012578616\n",
      "Model's accuracy is: 0.8639937106918238\n",
      "Model's recall is: 0.7745901639344263\n",
      "Model's precision is: 0.8571428571428571\n",
      "Model's F1 is: 0.813778256189451\n"
     ]
    },
    {
     "data": {
      "image/png": "[encoded data removed]",
      "text/plain": [
       "<Figure size 360x180 with 2 Axes>"
      ]
     },
     "metadata": {
      "needs_background": "light"
     },
     "output_type": "display_data"
    }
   ],
   "source": [
    "get_stats(Target,predictMLP)"
   ]
  },
  {
   "cell_type": "code",
   "execution_count": 59,
   "metadata": {},
   "outputs": [
    {
     "name": "stdout",
     "output_type": "stream",
     "text": [
      "Confusion Matrix of model\n",
      "[[711  73]\n",
      " [108 380]]\n",
      "Model's baseline is: 0.6163522012578616\n",
      "Model's accuracy is: 0.8577044025157232\n",
      "Model's recall is: 0.7786885245901639\n",
      "Model's precision is: 0.8388520971302428\n",
      "Model's F1 is: 0.8076514346439957\n"
     ]
    },
    {
     "data": {
      "image/png": "[encoded data removed]",
      "text/plain": [
       "<Figure size 360x180 with 2 Axes>"
      ]
     },
     "metadata": {
      "needs_background": "light"
     },
     "output_type": "display_data"
    }
   ],
   "source": [
    "get_stats(Target,predictBNB)"
   ]
  },
  {
   "cell_type": "code",
   "execution_count": 60,
   "metadata": {},
   "outputs": [
    {
     "data": {
      "text/plain": [
       "[0.8577044025157232,\n",
       " 0.8655660377358491,\n",
       " 0.8624213836477987,\n",
       " 0.8655660377358491,\n",
       " 0.8459119496855346,\n",
       " 0.8561320754716981,\n",
       " 0.8577044025157232,\n",
       " 0.8608490566037735,\n",
       " 0.8639937106918238,\n",
       " 0.8577044025157232]"
      ]
     },
     "execution_count": 60,
     "metadata": {},
     "output_type": "execute_result"
    }
   ],
   "source": [
    "Accuracy_Collection"
   ]
  },
  {
   "cell_type": "code",
   "execution_count": 61,
   "metadata": {},
   "outputs": [],
   "source": [
    "def model_selection_AccuracyBase(Accuracy):\n",
    "    i=0\n",
    "    for j in range(len(Accuracy)-1):\n",
    "        if Accuracy[i]<Accuracy[j]:\n",
    "            i=j\n",
    "    return i"
   ]
  },
  {
   "cell_type": "code",
   "execution_count": 62,
   "metadata": {},
   "outputs": [
    {
     "data": {
      "text/plain": [
       "1"
      ]
     },
     "execution_count": 62,
     "metadata": {},
     "output_type": "execute_result"
    }
   ],
   "source": [
    "Best_model=model_selection_AccuracyBase(Accuracy_Collection)\n",
    "Best_model"
   ]
  },
  {
   "cell_type": "code",
   "execution_count": 63,
   "metadata": {},
   "outputs": [
    {
     "data": {
      "text/plain": [
       "RandomForestClassifier(bootstrap=True, ccp_alpha=0.0, class_weight=None,\n",
       "                       criterion='gini', max_depth=None, max_features='auto',\n",
       "                       max_leaf_nodes=None, max_samples=None,\n",
       "                       min_impurity_decrease=0.0, min_impurity_split=None,\n",
       "                       min_samples_leaf=1, min_samples_split=2,\n",
       "                       min_weight_fraction_leaf=0.0, n_estimators=100,\n",
       "                       n_jobs=None, oob_score=False, random_state=None,\n",
       "                       verbose=0, warm_start=False)"
      ]
     },
     "execution_count": 63,
     "metadata": {},
     "output_type": "execute_result"
    }
   ],
   "source": [
    "Models_collection[Best_model]"
   ]
  },
  {
   "cell_type": "code",
   "execution_count": 64,
   "metadata": {},
   "outputs": [
    {
     "data": {
      "text/plain": [
       "0.8655660377358491"
      ]
     },
     "execution_count": 64,
     "metadata": {},
     "output_type": "execute_result"
    }
   ],
   "source": [
    "Models_collection[Best_model].fit(final,Target)\n",
    "Models_collection[Best_model].score(final,Target)"
   ]
  },
  {
   "cell_type": "code",
   "execution_count": 65,
   "metadata": {},
   "outputs": [],
   "source": [
    "def predictions():\n",
    "    PClass=input(\"Please enter the PClass (1,2,3):\")\n",
    "    if(int(PClass)<1 or int(PClass)>3):\n",
    "        print(\"Wrong PClass entered.\")\n",
    "        predictions()\n",
    "    Gender=input(\"Please enter gender (Male/Female):\")\n",
    "    if(Gender!=\"Male\" and Gender!=\"Female\" and Gender!=\"male\" and Gender!=\"female\"):\n",
    "        print(\"Wrong Gender entered.\")\n",
    "        predictions()\n",
    "    Siblings=input(\"Please enter number of Siblings (0,1,2,3):\")\n",
    "    if(int(Siblings)<0 or int(Siblings)>3):\n",
    "        print(\"Wrong siblings number entered.\")\n",
    "        predictions()\n",
    "    Embarked=input(\"Enter Embarked value (C,S,Q):\")\n",
    "    if(Embarked!='C' and Embarked!='S' and Embarked!='Q' and Embarked!='s' and Embarked!='c' and Embarked!='q'):\n",
    "        print(\"Wrong Embarked value is entered.\")\n",
    "        predictions()\n",
    "    if(Gender==\"Male\" or Gender==\"male\"):\n",
    "        Gender=1\n",
    "    else:\n",
    "        Gender=0\n",
    "    C=0\n",
    "    Q=0\n",
    "    if(Embarked=='S' or Embarked=='s'):\n",
    "        C=0\n",
    "        Q=0\n",
    "    elif(Embarked=='C' or Embarked=='c'):\n",
    "        C=1\n",
    "        Q=0\n",
    "    else:\n",
    "        Q=1\n",
    "        C=0\n",
    "    PredictedVal=Models_collection[Best_model].predict([[PClass,Siblings,Gender,C,Q]])\n",
    "    if(PredictedVal==1):\n",
    "        print(\"The person Survived.\")\n",
    "    else:\n",
    "        print(\"The person not Survived.\")"
   ]
  },
  {
   "cell_type": "code",
   "execution_count": 66,
   "metadata": {},
   "outputs": [],
   "source": [
    "def predictor(P,G,S,E):\n",
    "    PClass=int(P)\n",
    "    Gender=G\n",
    "    Siblings=int(S)\n",
    "    Embarked=E\n",
    "    if(Gender==\"Male\" or Gender==\"male\"):\n",
    "        Gender=1\n",
    "    else:\n",
    "        Gender=0\n",
    "    C=0\n",
    "    Q=0\n",
    "    if(Embarked=='S' or Embarked=='s'):\n",
    "        C=0\n",
    "        Q=0\n",
    "    elif(Embarked=='C' or Embarked=='c'):\n",
    "        C=1\n",
    "        Q=0\n",
    "    else:\n",
    "        Q=1\n",
    "        C=0\n",
    "    \n",
    "    PredictedVal=Models_collection[Best_model].predict([[PClass,Siblings,Gender,C,Q]])\n",
    "    return PredictedVal"
   ]
  },
  {
   "cell_type": "code",
   "execution_count": 67,
   "metadata": {},
   "outputs": [],
   "source": [
    "from tkinter import *\n",
    "from tkinter.ttk import *\n",
    "window=Tk()\n",
    "window.title(\"Titanic Disaster Predictor\")\n",
    "window.geometry('500x300')\n",
    "lb1=Label(window,text=\"Select Values of attributes\",font=(\"Times New Roman\",14))\n",
    "lb1.grid(column=0,row=0)\n",
    "lb2=Label(window,text=\"PClass\",font=(\"Times New Roman\",12))\n",
    "lb2.grid(column=2,row=2)\n",
    "combo=Combobox(window)\n",
    "combo['values']=(1,2,3)\n",
    "combo.current(1)\n",
    "combo.grid(column=2,row=3)\n",
    "lb3=Label(window,text=\"Gender\",font=(\"Times New Roman\",12))\n",
    "lb3.grid(column=2,row=4)\n",
    "combo1=Combobox(window)\n",
    "combo1['values']=(\"Male\",\"Female\")\n",
    "combo1.current(1)\n",
    "combo1.grid(column=2,row=5)\n",
    "lb4=Label(window,text=\"Siblings\",font=(\"Times New Roman\",12))\n",
    "lb4.grid(column=2,row=6)\n",
    "combo2=Combobox(window)\n",
    "combo2['values']=(0,1,2,3)\n",
    "combo2.current(1)\n",
    "combo2.grid(column=2,row=7)\n",
    "lb4=Label(window,text=\"Embarked\",font=(\"Times New Roman\",12))\n",
    "lb4.grid(column=2,row=8)\n",
    "combo3=Combobox(window)\n",
    "combo3['values']=('C','S','Q')\n",
    "combo3.current(1)\n",
    "combo3.grid(column=2,row=9)\n",
    "lb=Label(window)\n",
    "def clicked():\n",
    "    global lb\n",
    "    lb.destroy()\n",
    "    p=combo.get()\n",
    "    g=combo1.get()\n",
    "    s=combo2.get()\n",
    "    e=combo3.get()\n",
    "    predict=predictor(p,g,s,e)\n",
    "    if(predict==1):\n",
    "        lb=Label(window,text=\"Hooray,Person Survived!\",font=(\"Times New Roman\",14))\n",
    "        lb.grid(column=2,row=12)\n",
    "    else:\n",
    "        lb=Label(window,text=\"Alas,Person not Survived!\",font=(\"Times New Roman\",14))\n",
    "        lb.grid(column=2,row=12)\n",
    "btn=Button(window,text=\"Predict\",command=clicked)\n",
    "btn.grid(column=2,row=10)\n",
    "window.mainloop()"
   ]
  },
  {
   "cell_type": "code",
   "execution_count": null,
   "metadata": {},
   "outputs": [],
   "source": []
  }
 ],
 "metadata": {
  "kernelspec": {
   "display_name": "Python 3",
   "language": "python",
   "name": "python3"
  },
  "language_info": {
   "codemirror_mode": {
    "name": "ipython",
    "version": 3
   },
   "file_extension": ".py",
   "mimetype": "text/x-python",
   "name": "python",
   "nbconvert_exporter": "python",
   "pygments_lexer": "ipython3",
   "version": "3.7.6"
  }
 },
 "nbformat": 4,
 "nbformat_minor": 4
}
