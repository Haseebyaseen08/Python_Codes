{
 "cells": [
  {
   "cell_type": "code",
   "execution_count": 4,
   "metadata": {},
   "outputs": [],
   "source": [
    "from queue import PriorityQueue\n",
    "\n",
    "class Graph:\n",
    "    def __init__(self):\n",
    "        self.graph = { \"A\": [(146, (\"A\", \"O\")), (140, (\"A\", \"S\")), (494, (\"A\", \"C\"))],\n",
    "\"O\": [(146, (\"O\", \"A\")), (151, (\"O\", \"S\"))],\n",
    "\"S\": [(151, (\"S\", \"O\")), (140, (\"S\", \"A\")),(80, (\"S\", \"R\")),(99, (\"S\", \"F\"))],\n",
    "\"C\": [(494, (\"C\", \"A\")), (146, (\"C\", \"R\"))],\n",
    "\"R\": [(80, (\"R\", \"S\")), (146, (\"R\", \"C\")), (97, (\"R\", \"P\"))],\n",
    "\"F\": [(99, (\"F\", \"S\")), (211, (\"F\", \"B\"))],\n",
    "\"B\": [(211, (\"B\", \"F\")), (101, (\"B\", \"P\"))],\n",
    "\"P\": [(101, (\"P\", \"B\")), (97, (\"P\", \"R\")), (138, (\"P\", \"C\"))]\n",
    "                            }\n",
    "        self.edges = {}\n",
    "        self.weights = {}\n",
    "        self.heu = {}\n",
    "        self.populate_edges()\n",
    "        self.populate_weights()\n",
    "        print(\"edges : \", self.edges)\n",
    "        print(\"weights  : \", self.weights)\n",
    "\n",
    "    def populate_edges(self):\n",
    "        for key in self.graph:\n",
    "            neighbours = []\n",
    "            for each_tuple in self.graph[key]:\n",
    "                neighbours.append(each_tuple[1][1])\n",
    "            self.edges[key] = neighbours\n",
    "\n",
    "    def populate_weights(self):\n",
    "        for key in self.graph:\n",
    "            neighbours = self.graph[key]\n",
    "            for each_tuple in neighbours:\n",
    "                self.weights[each_tuple[1]] = each_tuple[0]\n",
    "\n",
    "    def neighbors(self, node):\n",
    "        return self.edges[node]\n",
    "\n",
    "    def get_cost(self, from_node, to_node):\n",
    "        return self.weights[(from_node,  to_node)]"
   ]
  },
  {
   "cell_type": "code",
   "execution_count": 5,
   "metadata": {},
   "outputs": [],
   "source": [
    "def ucs(graph, start, goal):\n",
    "    visited = []\n",
    "    queue = PriorityQueue()\n",
    "    queue.put((0, start))  #//enque (0, \"A\")\n",
    "    while queue:\n",
    "        cost,node = queue.get()  #//418, B\n",
    "        \n",
    "        if node not in visited:\n",
    "            visited.append(node) # //A ,S,O ,R, F, P,C, B\n",
    "            if node == goal:\n",
    "                break\n",
    "            for i in graph.neighbors(node):  #// A, R \n",
    "                if i not in visited:\n",
    "                    total_cost = cost + graph.get_cost(node, i)\n",
    "                    queue.put((total_cost, i))  # //(494,\"C\")\n",
    "#                                                //--\n",
    "#                                                // --,--\n",
    "#                                                // --\n",
    "#                                                //--,(450,\"B\")\n",
    "#                                                //\n",
    "#                                                //(418,\"B\"),--,(455,\"C\")\n",
    "#                                                // -- , -- \n",
    "#   \n",
    "    return visited"
   ]
  },
  {
   "cell_type": "code",
   "execution_count": 7,
   "metadata": {},
   "outputs": [
    {
     "name": "stdout",
     "output_type": "stream",
     "text": [
      "edges :  {'A': ['O', 'S', 'C'], 'O': ['A', 'S'], 'S': ['O', 'A', 'R', 'F'], 'C': ['A', 'R'], 'R': ['S', 'C', 'P'], 'F': ['S', 'B'], 'B': ['F', 'P'], 'P': ['B', 'R', 'C']}\n",
      "weights  :  {('A', 'O'): 146, ('A', 'S'): 140, ('A', 'C'): 494, ('O', 'A'): 146, ('O', 'S'): 151, ('S', 'O'): 151, ('S', 'A'): 140, ('S', 'R'): 80, ('S', 'F'): 99, ('C', 'A'): 494, ('C', 'R'): 146, ('R', 'S'): 80, ('R', 'C'): 146, ('R', 'P'): 97, ('F', 'S'): 99, ('F', 'B'): 211, ('B', 'F'): 211, ('B', 'P'): 101, ('P', 'B'): 101, ('P', 'R'): 97, ('P', 'C'): 138}\n",
      "['A', 'S', 'O', 'R', 'F', 'P', 'C', 'B']\n"
     ]
    }
   ],
   "source": [
    "print(ucs(Graph(), \"A\", \"B\"))"
   ]
  },
  {
   "cell_type": "code",
   "execution_count": null,
   "metadata": {},
   "outputs": [],
   "source": []
  }
 ],
 "metadata": {
  "kernelspec": {
   "display_name": "Python 3",
   "language": "python",
   "name": "python3"
  },
  "language_info": {
   "codemirror_mode": {
    "name": "ipython",
    "version": 3
   },
   "file_extension": ".py",
   "mimetype": "text/x-python",
   "name": "python",
   "nbconvert_exporter": "python",
   "pygments_lexer": "ipython3",
   "version": "3.7.6"
  }
 },
 "nbformat": 4,
 "nbformat_minor": 4
}
