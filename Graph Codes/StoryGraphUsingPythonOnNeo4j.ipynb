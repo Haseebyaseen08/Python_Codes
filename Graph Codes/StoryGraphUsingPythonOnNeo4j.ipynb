{
 "cells": [
  {
   "cell_type": "code",
   "execution_count": 1,
   "metadata": {},
   "outputs": [],
   "source": [
    "fileObject=open(\"C://Users/Haseeb/Desktop/Story.txt\",\"r\")  #open file in read mode provided the path of file in which story is."
   ]
  },
  {
   "cell_type": "code",
   "execution_count": 2,
   "metadata": {},
   "outputs": [],
   "source": [
    "story=fileObject.read()  #reading file."
   ]
  },
  {
   "cell_type": "code",
   "execution_count": 3,
   "metadata": {},
   "outputs": [
    {
     "data": {
      "text/plain": [
       "'Camel and  Jackal were friends. Jackal took Camel to Sugarcanefarm. Sugarcanefarm was opposite to River. Jackal began to Howl. Camel got Frightened. Camel pleaded to Jackal. Jackal said Howl_is_Habbit. Farmer arrived Sugarcanefarm. Camel was beaten Farmer. Camel ran toward River. Jackal had ridden on Camel. Camel took dip in River. Jackal started Crying. Camel said This_is_my_Habit.'"
      ]
     },
     "execution_count": 3,
     "metadata": {},
     "output_type": "execute_result"
    }
   ],
   "source": [
    "story"
   ]
  },
  {
   "cell_type": "code",
   "execution_count": 4,
   "metadata": {},
   "outputs": [],
   "source": [
    "story=\"Rebacca like_to_eat Honey. Rebecca lives in NewYork. Honey is obtained_from HoneyBees. Honey can Organic. Honey can Inorganic. Organic collected_from HoneyBeesNest.HoneyBeesNest found on Trees. Inoganic collected_from Beehives. Beehives"
   ]
  },
  {
   "cell_type": "code",
   "execution_count": 5,
   "metadata": {},
   "outputs": [],
   "source": [
    "#story "
   ]
  },
  {
   "cell_type": "code",
   "execution_count": 6,
   "metadata": {},
   "outputs": [],
   "source": [
    "import nltk"
   ]
  },
  {
   "cell_type": "code",
   "execution_count": 7,
   "metadata": {},
   "outputs": [],
   "source": [
    "token=nltk.sent_tokenize(story) #Tokenize each line of story"
   ]
  },
  {
   "cell_type": "code",
   "execution_count": 8,
   "metadata": {},
   "outputs": [
    {
     "data": {
      "text/plain": [
       "['Camel and  Jackal were friends.',\n",
       " 'Jackal took Camel to Sugarcanefarm.',\n",
       " 'Sugarcanefarm was opposite to River.',\n",
       " 'Jackal began to Howl.',\n",
       " 'Camel got Frightened.',\n",
       " 'Camel pleaded to Jackal.',\n",
       " 'Jackal said Howl_is_Habbit.',\n",
       " 'Farmer arrived Sugarcanefarm.',\n",
       " 'Camel was beaten Farmer.',\n",
       " 'Camel ran toward River.',\n",
       " 'Jackal had ridden on Camel.',\n",
       " 'Camel took dip in River.',\n",
       " 'Jackal started Crying.',\n",
       " 'Camel said This_is_my_Habit.']"
      ]
     },
     "execution_count": 8,
     "metadata": {},
     "output_type": "execute_result"
    }
   ],
   "source": [
    "token"
   ]
  },
  {
   "cell_type": "code",
   "execution_count": 9,
   "metadata": {},
   "outputs": [],
   "source": [
    "Line_word_tokenize=[] #this list contain the lists equal to number of lines and each list contain tag tokenization of line by words."
   ]
  },
  {
   "cell_type": "code",
   "execution_count": 10,
   "metadata": {},
   "outputs": [],
   "source": [
    "for line in token:\n",
    "    Line_word_tokenize.append(nltk.pos_tag(nltk.word_tokenize(line)))  #Here is the above comment implemented"
   ]
  },
  {
   "cell_type": "code",
   "execution_count": 11,
   "metadata": {},
   "outputs": [
    {
     "data": {
      "text/plain": [
       "[[('Camel', 'NNP'),\n",
       "  ('and', 'CC'),\n",
       "  ('Jackal', 'NNP'),\n",
       "  ('were', 'VBD'),\n",
       "  ('friends', 'NNS'),\n",
       "  ('.', '.')],\n",
       " [('Jackal', 'NNP'),\n",
       "  ('took', 'VBD'),\n",
       "  ('Camel', 'NNP'),\n",
       "  ('to', 'TO'),\n",
       "  ('Sugarcanefarm', 'NNP'),\n",
       "  ('.', '.')],\n",
       " [('Sugarcanefarm', 'NN'),\n",
       "  ('was', 'VBD'),\n",
       "  ('opposite', 'JJ'),\n",
       "  ('to', 'TO'),\n",
       "  ('River', 'NNP'),\n",
       "  ('.', '.')],\n",
       " [('Jackal', 'NNP'),\n",
       "  ('began', 'VBD'),\n",
       "  ('to', 'TO'),\n",
       "  ('Howl', 'NNP'),\n",
       "  ('.', '.')],\n",
       " [('Camel', 'NNP'), ('got', 'VBD'), ('Frightened', 'NNP'), ('.', '.')],\n",
       " [('Camel', 'NNP'),\n",
       "  ('pleaded', 'VBD'),\n",
       "  ('to', 'TO'),\n",
       "  ('Jackal', 'NNP'),\n",
       "  ('.', '.')],\n",
       " [('Jackal', 'NNP'), ('said', 'VBD'), ('Howl_is_Habbit', 'NNP'), ('.', '.')],\n",
       " [('Farmer', 'NNP'), ('arrived', 'VBD'), ('Sugarcanefarm', 'NNP'), ('.', '.')],\n",
       " [('Camel', 'NNP'),\n",
       "  ('was', 'VBD'),\n",
       "  ('beaten', 'VBN'),\n",
       "  ('Farmer', 'NNP'),\n",
       "  ('.', '.')],\n",
       " [('Camel', 'NNP'),\n",
       "  ('ran', 'VBD'),\n",
       "  ('toward', 'IN'),\n",
       "  ('River', 'NNP'),\n",
       "  ('.', '.')],\n",
       " [('Jackal', 'NNP'),\n",
       "  ('had', 'VBD'),\n",
       "  ('ridden', 'VBN'),\n",
       "  ('on', 'IN'),\n",
       "  ('Camel', 'NNP'),\n",
       "  ('.', '.')],\n",
       " [('Camel', 'NNP'),\n",
       "  ('took', 'VBD'),\n",
       "  ('dip', 'NN'),\n",
       "  ('in', 'IN'),\n",
       "  ('River', 'NNP'),\n",
       "  ('.', '.')],\n",
       " [('Jackal', 'NNP'), ('started', 'VBD'), ('Crying', 'NNP'), ('.', '.')],\n",
       " [('Camel', 'NNP'), ('said', 'VBD'), ('This_is_my_Habit', 'NNP'), ('.', '.')]]"
      ]
     },
     "execution_count": 11,
     "metadata": {},
     "output_type": "execute_result"
    }
   ],
   "source": [
    "Line_word_tokenize #So list contain lists having tag tokenization of lines."
   ]
  },
  {
   "cell_type": "code",
   "execution_count": 12,
   "metadata": {},
   "outputs": [],
   "source": [
    "Nodes_relation=[] "
   ]
  },
  {
   "cell_type": "code",
   "execution_count": 13,
   "metadata": {},
   "outputs": [],
   "source": [
    "for tok in Line_word_tokenize: #This is to seprate nodes and relation of each line\n",
    "    node=[]\n",
    "    relation=[]\n",
    "    for val in tok:\n",
    "        if val[1]=='NNP' or val[1]=='NN':  #As observed these tags act as nodes so on the basis of this I seprated the nodes\n",
    "            node.append(val[0])\n",
    "        elif val[1]=='VBD' or val[1]=='VBN' or val[1]=='NNS' or val[1]=='JJ' or val[1]=='TO' or val[1]=='IN':\n",
    "            relation.append(val[0])\n",
    "    Nodes_relation.append(node)        #After each list with in list (means after compliting tag of each line)\n",
    "    Nodes_relation.append(relation)     #In new list 2 new lists are appended 1.For nodes 2. For relationship"
   ]
  },
  {
   "cell_type": "code",
   "execution_count": 14,
   "metadata": {},
   "outputs": [
    {
     "data": {
      "text/plain": [
       "[['Camel', 'Jackal'],\n",
       " ['were', 'friends'],\n",
       " ['Jackal', 'Camel', 'Sugarcanefarm'],\n",
       " ['took', 'to'],\n",
       " ['Sugarcanefarm', 'River'],\n",
       " ['was', 'opposite', 'to'],\n",
       " ['Jackal', 'Howl'],\n",
       " ['began', 'to'],\n",
       " ['Camel', 'Frightened'],\n",
       " ['got'],\n",
       " ['Camel', 'Jackal'],\n",
       " ['pleaded', 'to'],\n",
       " ['Jackal', 'Howl_is_Habbit'],\n",
       " ['said'],\n",
       " ['Farmer', 'Sugarcanefarm'],\n",
       " ['arrived'],\n",
       " ['Camel', 'Farmer'],\n",
       " ['was', 'beaten'],\n",
       " ['Camel', 'River'],\n",
       " ['ran', 'toward'],\n",
       " ['Jackal', 'Camel'],\n",
       " ['had', 'ridden', 'on'],\n",
       " ['Camel', 'dip', 'River'],\n",
       " ['took', 'in'],\n",
       " ['Jackal', 'Crying'],\n",
       " ['started'],\n",
       " ['Camel', 'This_is_my_Habit'],\n",
       " ['said']]"
      ]
     },
     "execution_count": 14,
     "metadata": {},
     "output_type": "execute_result"
    }
   ],
   "source": [
    "Nodes_relation #So now in this list we have 2 consectitive lists shows 1 line. 1st list show nodes of that line while\n",
    "                #other shows relation. Now nodes and relations are clear we continue ploting these on neo4j"
   ]
  },
  {
   "cell_type": "code",
   "execution_count": 15,
   "metadata": {},
   "outputs": [],
   "source": [
    "from py2neo import Node, Relationship, Graph   \n",
    "from py2neo.matching import *                  #Import necessary libraries"
   ]
  },
  {
   "cell_type": "code",
   "execution_count": 21,
   "metadata": {},
   "outputs": [],
   "source": [
    "graph=Graph(password='123')"
   ]
  },
  {
   "cell_type": "code",
   "execution_count": 22,
   "metadata": {},
   "outputs": [],
   "source": [
    "n=[]\n",
    "nodes = NodeMatcher(graph)      #This will help to get the pre create node of graph, so that we can create their relations."
   ]
  },
  {
   "cell_type": "code",
   "execution_count": 23,
   "metadata": {},
   "outputs": [],
   "source": [
    "for get in range(0,len(Nodes_relation),2): #As 1st value is node and 2nd is relation so at single time we need to jump over\n",
    "    node=Nodes_relation[get]             #relationship lists. As we are going to plot nodes.\n",
    "    for i in range(len(node)):\n",
    "        if node[i] not in n:      #This will ensure that duplicate nodes will not created.\n",
    "            graph.create(Node(\"Generic\", name=node[i]))  #As on runtime we are unable to give node type. So I use \"Generic\" as dummy type.\n",
    "            n.append(node[i])       #Append created node name so that next time we able to check."
   ]
  },
  {
   "cell_type": "code",
   "execution_count": 24,
   "metadata": {},
   "outputs": [],
   "source": [
    "for get in range(0,len(Nodes_relation),2):  #Here the same above loop is used.\n",
    "    node=Nodes_relation[get]               #Current value of loop always point list of nodes\n",
    "    rel=Nodes_relation[get+1]              #Current value +1 give us relationships of that node.\n",
    "                                        #Now we have list of nodes and list of their relation at each iteration\n",
    "    if len(node)==2:                #If 2 nodes are there so they plot as it is while every type of thing is relation\n",
    "        check1=nodes.match(\"Generic\", name=node[0]).first()  #This will get the node refrence from neo4j of node\n",
    "        check2=nodes.match(\"Generic\", name=node[1]).first()  #which we are created using above loop\n",
    "        relation=\"\"\n",
    "        for i in range(len(rel)):                   #now this concatenate JJ,VB,VBD etc all types of relations in a string\n",
    "            relation=relation+rel[i].capitalize()\n",
    "        graph.create(Relationship(check1,relation,check2)) #Here we plot the realation between graph.\n",
    "    if len(node)==3 and len(rel)==2: #Now if we have 3 nodes and 2 relations so pattern is like node1->rel1->node2->rel2->node3\n",
    "        check1=nodes.match(\"Generic\", name=node[0]).first() #So we implement the pattern tocreate relation.\n",
    "        check2=nodes.match(\"Generic\", name=node[1]).first()\n",
    "        check3=nodes.match(\"Generic\", name=node[2]).first()\n",
    "        graph.create(Relationship(check1,rel[0],check2))\n",
    "        graph.create(Relationship(check2,rel[1],check3))"
   ]
  },
  {
   "cell_type": "code",
   "execution_count": null,
   "metadata": {},
   "outputs": [],
   "source": []
  }
 ],
 "metadata": {
  "kernelspec": {
   "display_name": "Python 3",
   "language": "python",
   "name": "python3"
  },
  "language_info": {
   "codemirror_mode": {
    "name": "ipython",
    "version": 3
   },
   "file_extension": ".py",
   "mimetype": "text/x-python",
   "name": "python",
   "nbconvert_exporter": "python",
   "pygments_lexer": "ipython3",
   "version": "3.7.6"
  }
 },
 "nbformat": 4,
 "nbformat_minor": 4
}
