{
 "cells": [
  {
   "cell_type": "code",
   "execution_count": 1,
   "metadata": {},
   "outputs": [],
   "source": [
    "graph={\n",
    "    \"A\":[\"B\",\"C\"],\n",
    "    \"B\":[\"C\",\"D\"],\n",
    "    \"C\":[\"D\"],\n",
    "    \"D\":[\"C\",\"E\"],\n",
    "    \"E\":[\"F\"],\n",
    "    \"F\":[]\n",
    "}"
   ]
  },
  {
   "cell_type": "code",
   "execution_count": 2,
   "metadata": {},
   "outputs": [
    {
     "name": "stdout",
     "output_type": "stream",
     "text": [
      "{'A': ['B', 'C'], 'B': ['C', 'D'], 'C': ['D'], 'D': ['C', 'E'], 'E': ['F'], 'F': []}\n"
     ]
    }
   ],
   "source": [
    "print(graph)"
   ]
  },
  {
   "cell_type": "code",
   "execution_count": 3,
   "metadata": {},
   "outputs": [],
   "source": [
    "def path_find(graph,start,end, path=[]):\n",
    "    \n",
    "    path=path+[start]      #[A,B,C,D]\n",
    "    \n",
    "    if start==end:\n",
    "        return path\n",
    "    \n",
    "    if start not in graph:\n",
    "        return None\n",
    "    \n",
    "    if end not in graph:\n",
    "        return None\n",
    "    \n",
    "    for node in graph[start]:   #B=>C=>D\n",
    "        if node not in path:\n",
    "            new_path=path_find(graph,node,end,path)\n",
    "            if new_path != 'null':\n",
    "                return new_path\n",
    "    return None"
   ]
  },
  {
   "cell_type": "code",
   "execution_count": 4,
   "metadata": {},
   "outputs": [
    {
     "name": "stdout",
     "output_type": "stream",
     "text": [
      "['A', 'B', 'C', 'D']\n"
     ]
    }
   ],
   "source": [
    "print(path_find(graph,'A','D'))"
   ]
  },
  {
   "cell_type": "code",
   "execution_count": 24,
   "metadata": {},
   "outputs": [],
   "source": [
    "def different_path_find(graph,start,end, path=[]):\n",
    "    \n",
    "    path=path+[start]   #AC\n",
    "    \n",
    "    if start==end:\n",
    "        return [path]\n",
    "    \n",
    "    if start not in graph:\n",
    "        return None\n",
    "    \n",
    "    if end not in graph:\n",
    "        return None\n",
    "    paths=[]\n",
    "    for node in graph[start]:   #A=>C\n",
    "        if node not in path:  \n",
    "            new_path=different_path_find(graph,node,end,path)\n",
    "            #if new_path !=[]:\n",
    "                #paths=paths+[new_path]\n",
    "            for npath in new_path:\n",
    "                paths.append(npath)\n",
    "    return paths"
   ]
  },
  {
   "cell_type": "code",
   "execution_count": 25,
   "metadata": {},
   "outputs": [
    {
     "data": {
      "text/plain": [
       "[['A', 'B', 'C', 'D'], ['A', 'B', 'D'], ['A', 'C', 'D']]"
      ]
     },
     "execution_count": 25,
     "metadata": {},
     "output_type": "execute_result"
    }
   ],
   "source": [
    "different_path_find(graph,\"A\",\"D\")"
   ]
  },
  {
   "cell_type": "code",
   "execution_count": 26,
   "metadata": {},
   "outputs": [],
   "source": [
    "def all_path(graph):\n",
    "    elements=[]\n",
    "    paths=[]\n",
    "    for obj in graph:\n",
    "        elements.append(obj) #ABCDEF\n",
    "    i=0\n",
    "    index=elements[i]\n",
    "    while i<=len(elements):\n",
    "        for obj1 in elements:\n",
    "            path=different_path_find(graph,index,obj1)\n",
    "            #print(path)\n",
    "            for npath in path:\n",
    "                paths.append(npath)\n",
    "        if i<len(elements)-1:\n",
    "            i=i+1\n",
    "            index=elements[i]\n",
    "        else:\n",
    "            break\n",
    "    return paths"
   ]
  },
  {
   "cell_type": "code",
   "execution_count": 27,
   "metadata": {},
   "outputs": [
    {
     "name": "stdout",
     "output_type": "stream",
     "text": [
      "[['A'], ['A', 'B'], ['A', 'B', 'C'], ['A', 'B', 'D', 'C'], ['A', 'C'], ['A', 'B', 'C', 'D'], ['A', 'B', 'D'], ['A', 'C', 'D'], ['A', 'B', 'C', 'D', 'E'], ['A', 'B', 'D', 'E'], ['A', 'C', 'D', 'E'], ['A', 'B', 'C', 'D', 'E', 'F'], ['A', 'B', 'D', 'E', 'F'], ['A', 'C', 'D', 'E', 'F'], ['B'], ['B', 'C'], ['B', 'D', 'C'], ['B', 'C', 'D'], ['B', 'D'], ['B', 'C', 'D', 'E'], ['B', 'D', 'E'], ['B', 'C', 'D', 'E', 'F'], ['B', 'D', 'E', 'F'], ['C'], ['C', 'D'], ['C', 'D', 'E'], ['C', 'D', 'E', 'F'], ['D', 'C'], ['D'], ['D', 'E'], ['D', 'E', 'F'], ['E'], ['E', 'F'], ['F']]\n"
     ]
    }
   ],
   "source": [
    "print(all_path(graph))"
   ]
  },
  {
   "cell_type": "code",
   "execution_count": null,
   "metadata": {},
   "outputs": [],
   "source": []
  },
  {
   "cell_type": "code",
   "execution_count": null,
   "metadata": {},
   "outputs": [],
   "source": []
  },
  {
   "cell_type": "code",
   "execution_count": null,
   "metadata": {},
   "outputs": [],
   "source": []
  }
 ],
 "metadata": {
  "kernelspec": {
   "display_name": "Python 3",
   "language": "python",
   "name": "python3"
  },
  "language_info": {
   "codemirror_mode": {
    "name": "ipython",
    "version": 3
   },
   "file_extension": ".py",
   "mimetype": "text/x-python",
   "name": "python",
   "nbconvert_exporter": "python",
   "pygments_lexer": "ipython3",
   "version": "3.7.6"
  }
 },
 "nbformat": 4,
 "nbformat_minor": 4
}
