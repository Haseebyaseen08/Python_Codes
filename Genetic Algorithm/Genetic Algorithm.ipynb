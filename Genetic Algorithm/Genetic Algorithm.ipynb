{
 "cells": [
  {
   "cell_type": "code",
   "execution_count": 1,
   "metadata": {},
   "outputs": [
    {
     "name": "stdout",
     "output_type": "stream",
     "text": [
      "Before giving expression remeber following things:\n",
      "        Enter expression as according to synatax of python.         \n",
      "        Use proper brackets and operands between operators.\n",
      "        Opreands must be according to pyton syntax. Like use \"**\" instad of \"^\" etc.\n",
      "        \n"
     ]
    }
   ],
   "source": [
    "#Basic instructions before input the expression.\n",
    "print('''Before giving expression remeber following things:\n",
    "        Enter expression as according to synatax of python.         \n",
    "        Use proper brackets and operands between operators.\n",
    "        Opreands must be according to pyton syntax. Like use \"**\" instad of \"^\" etc.\n",
    "        ''')"
   ]
  },
  {
   "cell_type": "code",
   "execution_count": 2,
   "metadata": {},
   "outputs": [
    {
     "name": "stdout",
     "output_type": "stream",
     "text": [
      "Please enter the valid expression:(2+(x+y)-(z+1))\n"
     ]
    }
   ],
   "source": [
    "#Getting expression from user.\n",
    "expression=input(\"Please enter the valid expression:\")"
   ]
  },
  {
   "cell_type": "code",
   "execution_count": 3,
   "metadata": {},
   "outputs": [
    {
     "data": {
      "text/plain": [
       "'(2+(x+y)-(z+1))'"
      ]
     },
     "execution_count": 3,
     "metadata": {},
     "output_type": "execute_result"
    }
   ],
   "source": [
    "expression"
   ]
  },
  {
   "cell_type": "code",
   "execution_count": 4,
   "metadata": {},
   "outputs": [],
   "source": [
    "#ASCII of \"A\", helps in next step.\n",
    "abc_val=65"
   ]
  },
  {
   "cell_type": "code",
   "execution_count": 5,
   "metadata": {},
   "outputs": [],
   "source": [
    "#In this part we make the expression generic, as replaced input expression's variable to\n",
    "#A-Z, in this way now we can solve it in easy way as we move further.\n",
    "#Moreover repater help us to indicate how many variables are there, help defining and mainitaining population.\n",
    "repeater=[]\n",
    "for x in expression:\n",
    "    if ((ord(x)>=65 and ord(x)<=90) or (ord(x)>=97 and ord(x)<=122)):\n",
    "        if x not in repeater:\n",
    "            repeater.append(x)\n",
    "            index=expression.index(x)\n",
    "            expression=expression[:index]+chr(abc_val)+expression[index+1:]\n",
    "            abc_val=abc_val+1\n",
    "        else:\n",
    "            index=expression.index(x)\n",
    "            expression=expression[:index]+chr(abc_val-((len(repeater)-(repeater.index(x)))))+expression[index+1:]"
   ]
  },
  {
   "cell_type": "code",
   "execution_count": 6,
   "metadata": {},
   "outputs": [
    {
     "data": {
      "text/plain": [
       "'(2+(A+B)-(C+1))'"
      ]
     },
     "execution_count": 6,
     "metadata": {},
     "output_type": "execute_result"
    }
   ],
   "source": [
    "#Expression changed from input variables to A-Z\n",
    "expression"
   ]
  },
  {
   "cell_type": "code",
   "execution_count": 7,
   "metadata": {},
   "outputs": [
    {
     "data": {
      "text/plain": [
       "3"
      ]
     },
     "execution_count": 7,
     "metadata": {},
     "output_type": "execute_result"
    }
   ],
   "source": [
    "#Show number of variables involved in expression.\n",
    "len(repeater)"
   ]
  },
  {
   "cell_type": "code",
   "execution_count": 8,
   "metadata": {},
   "outputs": [],
   "source": [
    "#Dictionary in which each character value is assigned. These values are changed with population values and help \n",
    "#eval() function to calculate the answer according to values.\n",
    "values={\"A\":1,\n",
    "       \"B\":2,\n",
    "       \"C\":3,\n",
    "       \"D\":4,\n",
    "       \"E\":5,\n",
    "       \"F\":6,\n",
    "       \"G\":7,\n",
    "       \"H\":8,\n",
    "       \"I\":9,\n",
    "       \"J\":10,\n",
    "       \"K\":11,\n",
    "       \"L\":12,\n",
    "       \"M\":13,\n",
    "       \"N\":14,\n",
    "       \"O\":15,\n",
    "       \"P\":16,\n",
    "       \"Q\":17,\n",
    "       \"R\":18,\n",
    "       \"S\":19,\n",
    "       \"T\":20,\n",
    "       \"U\":21,\n",
    "       \"V\":22,\n",
    "       \"W\":23,\n",
    "       \"X\":24,\n",
    "       \"Y\":25,\n",
    "       \"Z\":26}"
   ]
  },
  {
   "cell_type": "code",
   "execution_count": 9,
   "metadata": {},
   "outputs": [
    {
     "data": {
      "text/plain": [
       "['A',\n",
       " 'B',\n",
       " 'C',\n",
       " 'D',\n",
       " 'E',\n",
       " 'F',\n",
       " 'G',\n",
       " 'H',\n",
       " 'I',\n",
       " 'J',\n",
       " 'K',\n",
       " 'L',\n",
       " 'M',\n",
       " 'N',\n",
       " 'O',\n",
       " 'P',\n",
       " 'Q',\n",
       " 'R',\n",
       " 'S',\n",
       " 'T',\n",
       " 'U',\n",
       " 'V',\n",
       " 'W',\n",
       " 'X',\n",
       " 'Y',\n",
       " 'Z']"
      ]
     },
     "execution_count": 9,
     "metadata": {},
     "output_type": "execute_result"
    }
   ],
   "source": [
    "#This will get all the keys of above dictionary.\n",
    "keys=list(values.keys())\n",
    "keys"
   ]
  },
  {
   "cell_type": "code",
   "execution_count": 10,
   "metadata": {},
   "outputs": [],
   "source": [
    "#This help to calculate value of expression, and consider default values of dictionary as values of variables involved\n",
    "#in expression.\n",
    "def value_calculator():\n",
    "    exp_val=eval(expression,values)\n",
    "    return exp_val"
   ]
  },
  {
   "cell_type": "code",
   "execution_count": 11,
   "metadata": {},
   "outputs": [],
   "source": [
    "#This function convert input number in binary and complete 8-bits of that by putting 0s.\n",
    "def decimalToBinary(n):\n",
    "    binary=list(bin(n).replace(\"0b\", \"\")) #converstion of number.\n",
    "    for x in range(8-(len(binary))):  #this loop put required 0s to number to complete 8 bits.\n",
    "        binary.insert(0,0)\n",
    "    for i in range(len(binary)): \n",
    "        binary[i] = int(binary[i]) \n",
    "    return binary"
   ]
  },
  {
   "cell_type": "code",
   "execution_count": 12,
   "metadata": {},
   "outputs": [],
   "source": [
    "def binaryToDecimal(n): #This function convert binary input into decimal number\n",
    "    return int(n,2) "
   ]
  },
  {
   "cell_type": "code",
   "execution_count": 13,
   "metadata": {},
   "outputs": [
    {
     "name": "stdout",
     "output_type": "stream",
     "text": [
      "Enter the population size you want to set:5\n"
     ]
    }
   ],
   "source": [
    "#Input Initial Population.\n",
    "while True: \n",
    "    try:\n",
    "        population=int(input(\"Enter the population size you want to set:\")) \n",
    "    except ValueError:\n",
    "        print(\"Sorry I didn't understand that.\")\n",
    "        continue\n",
    "    if population<=0:\n",
    "        print(\"Sorry your response must not be negitive.\")\n",
    "        continue\n",
    "    else: \n",
    "        break "
   ]
  },
  {
   "cell_type": "code",
   "execution_count": 14,
   "metadata": {},
   "outputs": [
    {
     "data": {
      "text/plain": [
       "5"
      ]
     },
     "execution_count": 14,
     "metadata": {},
     "output_type": "execute_result"
    }
   ],
   "source": [
    "population"
   ]
  },
  {
   "cell_type": "code",
   "execution_count": 15,
   "metadata": {},
   "outputs": [
    {
     "name": "stdout",
     "output_type": "stream",
     "text": [
      "Enter the target value you want to achieve:3\n"
     ]
    }
   ],
   "source": [
    "#Get the target value required against expression.\n",
    "try:\n",
    "    target=int(input(\"Enter the target value you want to achieve:\")) \n",
    "except ValueError:\n",
    "    print(\"Sorry I didn't understand that.\")"
   ]
  },
  {
   "cell_type": "code",
   "execution_count": 16,
   "metadata": {},
   "outputs": [
    {
     "data": {
      "text/plain": [
       "3"
      ]
     },
     "execution_count": 16,
     "metadata": {},
     "output_type": "execute_result"
    }
   ],
   "source": [
    "target"
   ]
  },
  {
   "cell_type": "code",
   "execution_count": 17,
   "metadata": {},
   "outputs": [
    {
     "name": "stdout",
     "output_type": "stream",
     "text": [
      "Enter the margin of error in target value:1\n"
     ]
    }
   ],
   "source": [
    "#Input about error margin in target value\n",
    "while True: \n",
    "    try:\n",
    "        margin=int(input(\"Enter the margin of error in target value:\")) \n",
    "    except ValueError:\n",
    "        print(\"Sorry I didn't understand that.\")\n",
    "        continue\n",
    "    if margin<=0:\n",
    "        print(\"Sorry your response must not be negitive.\")\n",
    "        continue\n",
    "    else:\n",
    "        break "
   ]
  },
  {
   "cell_type": "code",
   "execution_count": 18,
   "metadata": {},
   "outputs": [
    {
     "data": {
      "text/plain": [
       "1"
      ]
     },
     "execution_count": 18,
     "metadata": {},
     "output_type": "execute_result"
    }
   ],
   "source": [
    "margin"
   ]
  },
  {
   "cell_type": "code",
   "execution_count": 19,
   "metadata": {},
   "outputs": [],
   "source": [
    "#This will genrate first random population,according to numbers of variables involved.\n",
    "import random\n",
    "population_val=[]\n",
    "for i in range(population):\n",
    "    dummy=[]\n",
    "    for j in range(len(repeater)):\n",
    "        dummy.append(random.randint(1,10))\n",
    "    population_val.append(dummy)"
   ]
  },
  {
   "cell_type": "code",
   "execution_count": 20,
   "metadata": {},
   "outputs": [
    {
     "data": {
      "text/plain": [
       "[[10, 10, 10], [7, 4, 4], [8, 3, 2], [1, 4, 9], [10, 10, 8]]"
      ]
     },
     "execution_count": 20,
     "metadata": {},
     "output_type": "execute_result"
    }
   ],
   "source": [
    "population_val"
   ]
  },
  {
   "cell_type": "code",
   "execution_count": 21,
   "metadata": {},
   "outputs": [],
   "source": [
    "#Lists used in next parts.\n",
    "results=[]\n",
    "error=[]\n",
    "binary_val=[]\n",
    "new_population=[]\n",
    "values_of_population=[]\n",
    "Childrens=[]"
   ]
  },
  {
   "cell_type": "code",
   "execution_count": 22,
   "metadata": {},
   "outputs": [],
   "source": [
    "#This is the mains code where process starts.\n",
    "def Checker(): #function to calculate and determine whether target achived or not. \n",
    "    activator=0\n",
    "    for val in population_val:  #Evaluate each member of population\n",
    "        for i in range(len(val)):  #Hepl change values of above dictionary.\n",
    "            values[keys[i]]=val[i]\n",
    "        output=value_calculator()   #Calling of function, returns value according to respective inputs.\n",
    "        if output==target or output==(target+margin) or output==(target-margin): #Check target achived or not\n",
    "            print(f\"The value of variable(s):{val}\")\n",
    "            activator=1  #if value achived next function not called\n",
    "            break\n",
    "        else:\n",
    "            results.append(output) #save results to calculate errors.\n",
    "    if activator==0:  #if target not achived new population genration process starts\n",
    "        errorCalculation()"
   ]
  },
  {
   "cell_type": "code",
   "execution_count": 23,
   "metadata": {},
   "outputs": [],
   "source": [
    "def errorCalculation(): #function to calculate error genrated by the values of population and arrange population accordingly\n",
    "    global population_val\n",
    "    global error\n",
    "    error=[]\n",
    "    for val in results:       #Calculation of error\n",
    "        if (target-val)<0:\n",
    "            error.append((-1)*(target-val))\n",
    "        else:\n",
    "            error.append(target-val)\n",
    "    population_val= [x for _,x in sorted(zip(error,population_val))] #Sorting of population according to error.\n",
    "    binaryConverstionOfPopulation()"
   ]
  },
  {
   "cell_type": "code",
   "execution_count": 24,
   "metadata": {},
   "outputs": [],
   "source": [
    "def binaryConverstionOfPopulation(): #function convert all values of population into binary form \n",
    "    global binary_val\n",
    "    binary_val=[]\n",
    "    for k in population_val:\n",
    "        dummy=[]\n",
    "        for l in k:\n",
    "            dummy.append(decimalToBinary(l))\n",
    "        binary_val.append(dummy)\n",
    "    newPopulationGenrator()"
   ]
  },
  {
   "cell_type": "code",
   "execution_count": 25,
   "metadata": {},
   "outputs": [],
   "source": [
    "def newPopulationGenrator(): #this function apply mutation and crossover on binary values of population and genrate new one.\n",
    "    global new_population\n",
    "    new_population=[]\n",
    "    for i in range(len(binary_val)-1): #Get 2 consective Members of population (binary)\n",
    "        combo1=binary_val[i]\n",
    "        combo2=binary_val[i+1]\n",
    "        val1=[]\n",
    "        val2=[]\n",
    "        for j in range(len(combo1)): #Get values of members\n",
    "            val1=combo1[j]\n",
    "            val2=combo2[j]\n",
    "            holder1=val1\n",
    "            holder2=val2\n",
    "            start=random.randint(0,7)   #Starting bit of crossover\n",
    "            end=random.randint(start,7) #Ending bit of crossover\n",
    "            for x in range(start,end):  #Apply crossover\n",
    "                a=holder1[x]\n",
    "                holder1[x]=holder2[x]\n",
    "                holder2[x]=a\n",
    "            mutation_number=random.randint(0,7) #Now apply mutation on 1st new child (Random Bit)\n",
    "            if holder1[mutation_number]==0:\n",
    "                holder1[mutation_number]=1\n",
    "            else:\n",
    "                holder1[mutation_number]=0\n",
    "            mutation_number=random.randint(0,7) #Mutation on 2nd new child (Random Bit)\n",
    "            if holder2[mutation_number]==0:\n",
    "                holder2[mutation_number]=1\n",
    "            else:\n",
    "                holder2[mutation_number]=0\n",
    "            new_population.append(holder1)  #Stor new child\n",
    "            new_population.append(holder2)\n",
    "    convertPopulationToDecimalNumber()"
   ]
  },
  {
   "cell_type": "code",
   "execution_count": 26,
   "metadata": {},
   "outputs": [],
   "source": [
    "def convertPopulationToDecimalNumber(): #This function convert new childs into respective decimal values as they are in binary.\n",
    "    global values_of_population\n",
    "    values_of_population=[]\n",
    "    for i in new_population:\n",
    "        values_of_population.append(binaryToDecimal(( ''.join(str(e) for e in i))))\n",
    "    combinationOfPopulation()"
   ]
  },
  {
   "cell_type": "code",
   "execution_count": 27,
   "metadata": {},
   "outputs": [],
   "source": [
    "#Now as child maybe is in form of combination, like if 2 variables are there so population is combination of 2 values\n",
    "#for 3 its 3 and so on\n",
    "#So this function depending on variables involved create combination of childs to genrate new members (Complete child)\n",
    "def combinationOfPopulation():\n",
    "    global Childrens\n",
    "    Childrens=[]\n",
    "    if len(repeater)>1:\n",
    "        iterate=iter(values_of_population)\n",
    "        for val in iterate:\n",
    "            v=[]\n",
    "            v.append(val)\n",
    "            for i in range(len(repeater)-1):\n",
    "                v.append(next(iterate))\n",
    "            Childrens.append(v)\n",
    "    else:\n",
    "        Childrens=values_of_population\n",
    "    fitestNewPopulation()"
   ]
  },
  {
   "cell_type": "code",
   "execution_count": 28,
   "metadata": {},
   "outputs": [],
   "source": [
    "def fitestNewPopulation(): #This function only entertain childs which are first come and fill the space of population size\n",
    "    global population_val\n",
    "    global results\n",
    "    global Childrens\n",
    "    population_val=[]\n",
    "    results=[]\n",
    "    if len(repeater)<2:\n",
    "        for i in range(population):\n",
    "            population_val.append([Childrens[i]])\n",
    "    else:\n",
    "        for i in range(population):\n",
    "            population_val.append(Childrens[i])\n",
    "    print(f\"New Genration:{population_val}\")  #Prints the new genration, genrated and selected.\n",
    "    Checker()  #Recall checker to evaluate new genration, and whole process starts again."
   ]
  },
  {
   "cell_type": "code",
   "execution_count": 29,
   "metadata": {},
   "outputs": [
    {
     "name": "stdout",
     "output_type": "stream",
     "text": [
      "New Genration:[[39, 2, 5], [1, 128, 15], [2, 4, 1], [15, 15, 24], [4, 18, 15]]\n",
      "New Genration:[[142, 27, 5], [163, 5, 74], [27, 76, 163], [20, 74, 4], [76, 36, 20]]\n",
      "New Genration:[[31, 136, 72], [202, 167, 52], [136, 172, 202], [108, 52, 1], [172, 7, 108]]\n",
      "New Genration:[[188, 43, 15], [4, 109, 70], [43, 44, 4], [180, 70, 224], [44, 106, 180]]\n",
      "New Genration:[[148, 37, 198], [236, 240, 193], [37, 102, 236], [117, 193, 49], [102, 41, 117]]\n",
      "New Genration:[[156, 196, 101], [35, 70, 124], [196, 102, 35], [66, 124, 188], [102, 121, 66]]\n",
      "The value of variable(s):[66, 124, 188]\n"
     ]
    }
   ],
   "source": [
    "Checker()"
   ]
  },
  {
   "cell_type": "code",
   "execution_count": null,
   "metadata": {},
   "outputs": [],
   "source": []
  },
  {
   "cell_type": "code",
   "execution_count": null,
   "metadata": {},
   "outputs": [],
   "source": []
  },
  {
   "cell_type": "code",
   "execution_count": null,
   "metadata": {},
   "outputs": [],
   "source": []
  }
 ],
 "metadata": {
  "kernelspec": {
   "display_name": "Python 3",
   "language": "python",
   "name": "python3"
  },
  "language_info": {
   "codemirror_mode": {
    "name": "ipython",
    "version": 3
   },
   "file_extension": ".py",
   "mimetype": "text/x-python",
   "name": "python",
   "nbconvert_exporter": "python",
   "pygments_lexer": "ipython3",
   "version": "3.7.6"
  }
 },
 "nbformat": 4,
 "nbformat_minor": 4
}
