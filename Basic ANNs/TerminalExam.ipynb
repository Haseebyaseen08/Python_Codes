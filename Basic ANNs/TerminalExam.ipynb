{
 "cells": [
  {
   "cell_type": "code",
   "execution_count": 115,
   "metadata": {},
   "outputs": [],
   "source": [
    "def decimalToBinary(n):\n",
    "    binary=list(bin(n).replace(\"0b\", \"\")) #converstion of number.\n",
    "    for x in range(10-(len(binary))):  #this loop put required 0s to number to complete 10 bits.\n",
    "        binary.insert(0,0)\n",
    "    for i in range(len(binary)): \n",
    "        binary[i] = int(binary[i]) \n",
    "    return binary"
   ]
  },
  {
   "cell_type": "code",
   "execution_count": 116,
   "metadata": {},
   "outputs": [],
   "source": [
    "def binaryToDecimal(n): #This function convert binary input into decimal number\n",
    "    return int(n,2) "
   ]
  },
  {
   "cell_type": "code",
   "execution_count": 117,
   "metadata": {},
   "outputs": [],
   "source": [
    "population=10  #initial population"
   ]
  },
  {
   "cell_type": "code",
   "execution_count": 118,
   "metadata": {},
   "outputs": [],
   "source": [
    "import random\n",
    "population_val=[]\n",
    "for i in range(population):\n",
    "        population_val.append(random.randint(1,50))  #initial numbers\n"
   ]
  },
  {
   "cell_type": "code",
   "execution_count": 119,
   "metadata": {},
   "outputs": [
    {
     "data": {
      "text/plain": [
       "[39, 11, 46, 14, 2, 11, 15, 37, 8, 44]"
      ]
     },
     "execution_count": 119,
     "metadata": {},
     "output_type": "execute_result"
    }
   ],
   "source": [
    "population_val"
   ]
  },
  {
   "cell_type": "code",
   "execution_count": 120,
   "metadata": {},
   "outputs": [],
   "source": [
    "binary_population=[]\n",
    "for i in population_val:                     #Convert numbers into binary\n",
    "    binary_population.append(decimalToBinary(i))"
   ]
  },
  {
   "cell_type": "code",
   "execution_count": 121,
   "metadata": {},
   "outputs": [
    {
     "data": {
      "text/plain": [
       "[[0, 0, 0, 0, 1, 0, 0, 1, 1, 1],\n",
       " [0, 0, 0, 0, 0, 0, 1, 0, 1, 1],\n",
       " [0, 0, 0, 0, 1, 0, 1, 1, 1, 0],\n",
       " [0, 0, 0, 0, 0, 0, 1, 1, 1, 0],\n",
       " [0, 0, 0, 0, 0, 0, 0, 0, 1, 0],\n",
       " [0, 0, 0, 0, 0, 0, 1, 0, 1, 1],\n",
       " [0, 0, 0, 0, 0, 0, 1, 1, 1, 1],\n",
       " [0, 0, 0, 0, 1, 0, 0, 1, 0, 1],\n",
       " [0, 0, 0, 0, 0, 0, 1, 0, 0, 0],\n",
       " [0, 0, 0, 0, 1, 0, 1, 1, 0, 0]]"
      ]
     },
     "execution_count": 121,
     "metadata": {},
     "output_type": "execute_result"
    }
   ],
   "source": [
    "binary_population"
   ]
  },
  {
   "cell_type": "code",
   "execution_count": 122,
   "metadata": {},
   "outputs": [],
   "source": [
    "def countOfOnes(n):\n",
    "    counter=0\n",
    "    for i in n:               #Count number of ones function\n",
    "        if i==1:\n",
    "            counter=counter+1\n",
    "    return counter"
   ]
  },
  {
   "cell_type": "code",
   "execution_count": 123,
   "metadata": {},
   "outputs": [],
   "source": [
    "fitest=[]\n",
    "for arr in binary_population:              #Calculate number of ones of each binary\n",
    "    fitest.append(countOfOnes(arr))"
   ]
  },
  {
   "cell_type": "code",
   "execution_count": 124,
   "metadata": {},
   "outputs": [
    {
     "data": {
      "text/plain": [
       "[4, 3, 4, 3, 1, 3, 4, 3, 1, 3]"
      ]
     },
     "execution_count": 124,
     "metadata": {},
     "output_type": "execute_result"
    }
   ],
   "source": [
    "fitest"
   ]
  },
  {
   "cell_type": "code",
   "execution_count": 125,
   "metadata": {},
   "outputs": [],
   "source": [
    "output= [x for _,x in sorted(zip(fitest,binary_population),reverse=True)] #Sort on basis of fitest"
   ]
  },
  {
   "cell_type": "code",
   "execution_count": 126,
   "metadata": {},
   "outputs": [
    {
     "data": {
      "text/plain": [
       "[[0, 0, 0, 0, 1, 0, 1, 1, 1, 0],\n",
       " [0, 0, 0, 0, 1, 0, 0, 1, 1, 1],\n",
       " [0, 0, 0, 0, 0, 0, 1, 1, 1, 1],\n",
       " [0, 0, 0, 0, 1, 0, 1, 1, 0, 0],\n",
       " [0, 0, 0, 0, 1, 0, 0, 1, 0, 1],\n",
       " [0, 0, 0, 0, 0, 0, 1, 1, 1, 0],\n",
       " [0, 0, 0, 0, 0, 0, 1, 0, 1, 1],\n",
       " [0, 0, 0, 0, 0, 0, 1, 0, 1, 1],\n",
       " [0, 0, 0, 0, 0, 0, 1, 0, 0, 0],\n",
       " [0, 0, 0, 0, 0, 0, 0, 0, 1, 0]]"
      ]
     },
     "execution_count": 126,
     "metadata": {},
     "output_type": "execute_result"
    }
   ],
   "source": [
    "output"
   ]
  },
  {
   "cell_type": "code",
   "execution_count": 127,
   "metadata": {},
   "outputs": [],
   "source": [
    "Survived=[]\n",
    "for i in range(6):\n",
    "    Survived.append(output[i])   #Survived 6"
   ]
  },
  {
   "cell_type": "code",
   "execution_count": 128,
   "metadata": {},
   "outputs": [
    {
     "data": {
      "text/plain": [
       "[[0, 0, 0, 0, 1, 0, 1, 1, 1, 0],\n",
       " [0, 0, 0, 0, 1, 0, 0, 1, 1, 1],\n",
       " [0, 0, 0, 0, 0, 0, 1, 1, 1, 1],\n",
       " [0, 0, 0, 0, 1, 0, 1, 1, 0, 0],\n",
       " [0, 0, 0, 0, 1, 0, 0, 1, 0, 1],\n",
       " [0, 0, 0, 0, 0, 0, 1, 1, 1, 0]]"
      ]
     },
     "execution_count": 128,
     "metadata": {},
     "output_type": "execute_result"
    }
   ],
   "source": [
    "Survived"
   ]
  },
  {
   "cell_type": "code",
   "execution_count": 129,
   "metadata": {},
   "outputs": [],
   "source": [
    "new_population=[]\n",
    "for i in range(3):                 #Apply Cross over\n",
    "    rand1=random.randint(0,5)\n",
    "    rand2=random.randint(0,5)\n",
    "    if rand1==rand2:\n",
    "        if rand2==5:\n",
    "            rand2=rand2-1\n",
    "        else:\n",
    "            rand2=rand2+1\n",
    "    holder1=Survived[rand1]\n",
    "    holder2=Survived[rand2]\n",
    "    start=random.randint(0,7)   #Starting bit of crossover\n",
    "    end=random.randint(start,7) #Ending bit of crossover\n",
    "    for x in range(start,end):  #Apply crossover\n",
    "        a=holder1[x]\n",
    "        holder1[x]=holder2[x]\n",
    "        holder2[x]=a\n",
    "    new_population.append(holder1)\n",
    "    new_population.append(holder2)"
   ]
  },
  {
   "cell_type": "code",
   "execution_count": 130,
   "metadata": {},
   "outputs": [
    {
     "data": {
      "text/plain": [
       "[[0, 0, 0, 0, 1, 0, 0, 1, 0, 1],\n",
       " [0, 0, 0, 0, 0, 0, 1, 1, 1, 0],\n",
       " [0, 0, 0, 0, 1, 0, 0, 1, 0, 1],\n",
       " [0, 0, 0, 0, 0, 0, 1, 1, 1, 0],\n",
       " [0, 0, 0, 0, 1, 0, 1, 1, 1, 0],\n",
       " [0, 0, 0, 0, 1, 0, 0, 1, 1, 1]]"
      ]
     },
     "execution_count": 130,
     "metadata": {},
     "output_type": "execute_result"
    }
   ],
   "source": [
    "new_population               #After crossover"
   ]
  },
  {
   "cell_type": "code",
   "execution_count": 131,
   "metadata": {},
   "outputs": [],
   "source": [
    "survived1=[]\n",
    "for i in range(4):\n",
    "    survived1.append(new_population[i])               #select 4"
   ]
  },
  {
   "cell_type": "code",
   "execution_count": 132,
   "metadata": {},
   "outputs": [
    {
     "data": {
      "text/plain": [
       "[[0, 0, 0, 0, 1, 0, 0, 1, 0, 1],\n",
       " [0, 0, 0, 0, 0, 0, 1, 1, 1, 0],\n",
       " [0, 0, 0, 0, 1, 0, 0, 1, 0, 1],\n",
       " [0, 0, 0, 0, 0, 0, 1, 1, 1, 0]]"
      ]
     },
     "execution_count": 132,
     "metadata": {},
     "output_type": "execute_result"
    }
   ],
   "source": [
    "survived1"
   ]
  },
  {
   "cell_type": "code",
   "execution_count": 133,
   "metadata": {},
   "outputs": [],
   "source": [
    "mutated=[]\n",
    "for i in survived1:\n",
    "    holder=i                       #Apply mutation\n",
    "    rand=random.randint(0,9)\n",
    "    if holder[rand]==1:\n",
    "        holder[rand]=0\n",
    "    else:\n",
    "        holder[rand]=1\n",
    "    mutated.append(holder)"
   ]
  },
  {
   "cell_type": "code",
   "execution_count": 134,
   "metadata": {},
   "outputs": [
    {
     "data": {
      "text/plain": [
       "[[0, 0, 0, 1, 1, 0, 0, 1, 0, 0],\n",
       " [0, 1, 0, 1, 0, 0, 1, 1, 1, 0],\n",
       " [0, 0, 0, 1, 1, 0, 0, 1, 0, 0],\n",
       " [0, 1, 0, 1, 0, 0, 1, 1, 1, 0]]"
      ]
     },
     "execution_count": 134,
     "metadata": {},
     "output_type": "execute_result"
    }
   ],
   "source": [
    "mutated"
   ]
  },
  {
   "cell_type": "code",
   "execution_count": 135,
   "metadata": {},
   "outputs": [],
   "source": [
    "Output_Required=[]\n",
    "Output_Required=new_population          #Combine result of crossover and mutation\n",
    "for i in mutated:\n",
    "    Output_Required.append(i)"
   ]
  },
  {
   "cell_type": "code",
   "execution_count": 136,
   "metadata": {},
   "outputs": [
    {
     "data": {
      "text/plain": [
       "[[0, 0, 0, 1, 1, 0, 0, 1, 0, 0],\n",
       " [0, 1, 0, 1, 0, 0, 1, 1, 1, 0],\n",
       " [0, 0, 0, 1, 1, 0, 0, 1, 0, 0],\n",
       " [0, 1, 0, 1, 0, 0, 1, 1, 1, 0],\n",
       " [0, 0, 0, 0, 1, 0, 1, 1, 1, 0],\n",
       " [0, 0, 0, 0, 1, 0, 0, 1, 1, 1],\n",
       " [0, 0, 0, 1, 1, 0, 0, 1, 0, 0],\n",
       " [0, 1, 0, 1, 0, 0, 1, 1, 1, 0],\n",
       " [0, 0, 0, 1, 1, 0, 0, 1, 0, 0],\n",
       " [0, 1, 0, 1, 0, 0, 1, 1, 1, 0]]"
      ]
     },
     "execution_count": 136,
     "metadata": {},
     "output_type": "execute_result"
    }
   ],
   "source": [
    "Output_Required"
   ]
  },
  {
   "cell_type": "code",
   "execution_count": 137,
   "metadata": {},
   "outputs": [
    {
     "data": {
      "text/plain": [
       "10"
      ]
     },
     "execution_count": 137,
     "metadata": {},
     "output_type": "execute_result"
    }
   ],
   "source": [
    "len(Output_Required)"
   ]
  },
  {
   "cell_type": "code",
   "execution_count": null,
   "metadata": {},
   "outputs": [],
   "source": []
  },
  {
   "cell_type": "code",
   "execution_count": null,
   "metadata": {},
   "outputs": [],
   "source": []
  }
 ],
 "metadata": {
  "kernelspec": {
   "display_name": "Python 3",
   "language": "python",
   "name": "python3"
  },
  "language_info": {
   "codemirror_mode": {
    "name": "ipython",
    "version": 3
   },
   "file_extension": ".py",
   "mimetype": "text/x-python",
   "name": "python",
   "nbconvert_exporter": "python",
   "pygments_lexer": "ipython3",
   "version": "3.7.6"
  }
 },
 "nbformat": 4,
 "nbformat_minor": 4
}
