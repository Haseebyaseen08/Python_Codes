{
 "cells": [
  {
   "cell_type": "code",
   "execution_count": 7,
   "metadata": {},
   "outputs": [],
   "source": [
    "dataset=[[0,0,0,0],   #List contain, lists. First values are input and last value is outupt genrated by applying AND gate.\n",
    "        [0,0,1,0],\n",
    "        [0,1,0,0],\n",
    "        [0,1,1,0],\n",
    "        [1,0,0,0],\n",
    "        [1,0,1,0],\n",
    "        [1,1,0,0],\n",
    "        [1,1,1,1]]"
   ]
  },
  {
   "cell_type": "code",
   "execution_count": 8,
   "metadata": {},
   "outputs": [
    {
     "name": "stdout",
     "output_type": "stream",
     "text": [
      "Enter value of alfa:0.2\n",
      "Enter value of threshold:0.4\n"
     ]
    }
   ],
   "source": [
    "while True: #loop till we achive correct value\n",
    "        try:\n",
    "            alfa=float(input(\"Enter value of alfa:\"))  #get value of alfa from user.\n",
    "        except ValueError:\n",
    "            print(\"Sorry I didn't understand that.\")\n",
    "            continue\n",
    "        if alfa<=0:\n",
    "            print(\"Sorry your response must not be negitive.\")\n",
    "            continue\n",
    "        else:\n",
    "            #we get the correct value of age now we break the loop \n",
    "            break\n",
    "while True: #loop till we achive correct value\n",
    "        try:\n",
    "            threshold=float(input(\"Enter value of threshold:\"))  #get value of threshold from user.\n",
    "        except ValueError:\n",
    "            print(\"Sorry I didn't understand that.\")\n",
    "            continue\n",
    "        if threshold<=0:\n",
    "            print(\"Sorry your response must not be negitive.\")\n",
    "            continue\n",
    "        else:\n",
    "            #we get the correct value of age now we break the loop \n",
    "            break"
   ]
  },
  {
   "cell_type": "code",
   "execution_count": 9,
   "metadata": {},
   "outputs": [],
   "source": [
    "in_len=len(dataset[0]) #get number of attributes\n",
    "instances=len(dataset) #get number of instances"
   ]
  },
  {
   "cell_type": "code",
   "execution_count": 10,
   "metadata": {},
   "outputs": [
    {
     "data": {
      "text/plain": [
       "[-0.2, -0.2, -0.2]"
      ]
     },
     "execution_count": 10,
     "metadata": {},
     "output_type": "execute_result"
    }
   ],
   "source": [
    "weights=[]\n",
    "for i in range(in_len-1):\n",
    "    weights.append(-0.2)      #initialization of weights\n",
    "weights"
   ]
  },
  {
   "cell_type": "code",
   "execution_count": 11,
   "metadata": {},
   "outputs": [],
   "source": [
    "wrong=1\n",
    "loop=0\n",
    "output=0\n",
    "activation_level=0"
   ]
  },
  {
   "cell_type": "code",
   "execution_count": null,
   "metadata": {},
   "outputs": [],
   "source": [
    "checker=0\n",
    "while wrong!=3: #Perceptron learning starts there\n",
    "        wrong=0\n",
    "        for i in range(instances):         #to confirm that there is no null value of any attribute.\n",
    "            if len(dataset[i])!=in_len:\n",
    "                checker=checker+1\n",
    "                break\n",
    "            else:\n",
    "                for j in range(in_len-1):  #calculation of activation level\n",
    "                    activation_level=activation_level+(dataset[i][j]*weights[j])\n",
    "                if activation_level>=threshold: #prediction\n",
    "                    output=1\n",
    "                else:\n",
    "                    output=0\n",
    "                activation_level=0\n",
    "                if output==dataset[i][in_len-1]: #Backpropagation\n",
    "                    continue\n",
    "                else:\n",
    "                    error=dataset[i][in_len-1]-output\n",
    "                    for j in range(in_len-1):\n",
    "                        weights[j]=weights[j]+(alfa*error*dataset[i][j])        #weights changing.\n",
    "                    loop=loop+1\n",
    "                    wrong=wrong+1\n",
    "if checker>0:\n",
    "    print(\"Dataset has missing values, refine the dataset. Model not trained.\")\n",
    "else:\n",
    "    print(f\"When the value of alfa is {alfa} it took {loop} iteration to achive correct set of weights\")\n",
    "    print(f\"So the set of weights for threshold value {threshold} is {weights}\")"
   ]
  },
  {
   "cell_type": "code",
   "execution_count": null,
   "metadata": {},
   "outputs": [],
   "source": []
  }
 ],
 "metadata": {
  "kernelspec": {
   "display_name": "Python 3",
   "language": "python",
   "name": "python3"
  },
  "language_info": {
   "codemirror_mode": {
    "name": "ipython",
    "version": 3
   },
   "file_extension": ".py",
   "mimetype": "text/x-python",
   "name": "python",
   "nbconvert_exporter": "python",
   "pygments_lexer": "ipython3",
   "version": "3.7.6"
  }
 },
 "nbformat": 4,
 "nbformat_minor": 4
}
