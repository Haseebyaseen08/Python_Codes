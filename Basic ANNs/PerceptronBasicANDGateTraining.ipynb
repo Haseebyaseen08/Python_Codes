{
 "cells": [
  {
   "cell_type": "code",
   "execution_count": 1,
   "metadata": {},
   "outputs": [],
   "source": [
    "dataset=[[0,0,0],   #List contain 4 list each represent each instance of AND gate data for 2 variables\n",
    "        [0,1,0],\n",
    "        [1,0,0],\n",
    "        [1,1,1]]"
   ]
  },
  {
   "cell_type": "code",
   "execution_count": 5,
   "metadata": {},
   "outputs": [],
   "source": [
    "def perceptron():\n",
    "    while True: #loop till we achive correct value\n",
    "        try:\n",
    "            alfa=float(input(\"Enter value of alfa:\"))  #get value of alfa from user.\n",
    "        except ValueError:\n",
    "            print(\"Sorry I didn't understand that.\")\n",
    "            continue\n",
    "        if alfa<=0:\n",
    "            print(\"Sorry your response must not be negitive.\")\n",
    "            continue\n",
    "        else:\n",
    "            #we get the correct value of age now we break the loop \n",
    "            break\n",
    "    weights=[0.4,0.4] #assign of random weights\n",
    "    wrong=1\n",
    "    loop=0\n",
    "    output=0\n",
    "    threshold=0.1\n",
    "    while wrong!=0: #Perceptron learning starts there\n",
    "        wrong=0\n",
    "        for i in range(4):\n",
    "            activation_level=(dataset[i][0]*weights[0])+(dataset[i][1]*weights[1])\n",
    "            if activation_level>=0.4:\n",
    "                output=1\n",
    "            else:\n",
    "                output=0\n",
    "            if output==dataset[i][2]:\n",
    "                continue\n",
    "            else:\n",
    "                error=dataset[i][2]-output\n",
    "                weights[0]=weights[0]+(alfa*error*dataset[i][0])        #weights changing.\n",
    "                weights[1]=weights[1]+(alfa*error*dataset[i][1])\n",
    "                loop=loop+1\n",
    "                wrong=wrong+1\n",
    "    print(f\"When the value of alfa is {alfa} it took {loop} iteration to achive correct set of weights\")\n",
    "    print(f\"So the set of weights for threshold value {threshold} is {weights}\")"
   ]
  },
  {
   "cell_type": "code",
   "execution_count": 6,
   "metadata": {},
   "outputs": [
    {
     "name": "stdout",
     "output_type": "stream",
     "text": [
      "Enter value of alfa:0.1\n",
      "When the value of alfa is 0.1 it took 2 iteration to achive correct set of weights\n",
      "So the set of weights for threshold value 0.1 is [0.30000000000000004, 0.30000000000000004]\n"
     ]
    }
   ],
   "source": [
    "perceptron()"
   ]
  },
  {
   "cell_type": "code",
   "execution_count": null,
   "metadata": {},
   "outputs": [],
   "source": []
  },
  {
   "cell_type": "code",
   "execution_count": null,
   "metadata": {},
   "outputs": [],
   "source": []
  },
  {
   "cell_type": "code",
   "execution_count": null,
   "metadata": {},
   "outputs": [],
   "source": []
  }
 ],
 "metadata": {
  "kernelspec": {
   "display_name": "Python 3",
   "language": "python",
   "name": "python3"
  },
  "language_info": {
   "codemirror_mode": {
    "name": "ipython",
    "version": 3
   },
   "file_extension": ".py",
   "mimetype": "text/x-python",
   "name": "python",
   "nbconvert_exporter": "python",
   "pygments_lexer": "ipython3",
   "version": "3.7.6"
  }
 },
 "nbformat": 4,
 "nbformat_minor": 4
}
