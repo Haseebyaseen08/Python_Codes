{
 "cells": [
  {
   "cell_type": "code",
   "execution_count": 25,
   "metadata": {},
   "outputs": [],
   "source": [
    "dataset=[[0,0,0],   #List contain 4 list each represent each instance of AND gate data for 2 variables\n",
    "        [0,1,0],\n",
    "        [1,0,0],\n",
    "        [1,1,1]]"
   ]
  },
  {
   "cell_type": "code",
   "execution_count": 30,
   "metadata": {},
   "outputs": [],
   "source": [
    "weights=[-0.2,0.3,-0.9]"
   ]
  },
  {
   "cell_type": "code",
   "execution_count": 31,
   "metadata": {},
   "outputs": [],
   "source": [
    "wrong=1\n",
    "alfa=0.1\n",
    "loop=0\n",
    "output=0\n",
    "wrong=1"
   ]
  },
  {
   "cell_type": "code",
   "execution_count": 32,
   "metadata": {},
   "outputs": [],
   "source": [
    "while wrong!=0:\n",
    "    wrong=0\n",
    "    for i in range(4):\n",
    "        activation_level=(dataset[i][0]*weights[0])+(dataset[i][1]*weights[1])+weights[2]\n",
    "        #segmoid_value=1/(1+((2.71)**activation_level))\n",
    "        if activation_level>=0:\n",
    "            output=1\n",
    "        else:\n",
    "            output=0\n",
    "        if output==dataset[i][2]:\n",
    "            continue\n",
    "        else:\n",
    "            error=dataset[i][2]-output\n",
    "            weights[0]=weights[0]+(alfa*error*dataset[i][0])        #weights changing.\n",
    "            weights[1]=weights[1]+(alfa*error*dataset[i][1])\n",
    "            weights[2]=weights[2]+(alfa*error)\n",
    "            loop=loop+1\n",
    "            wrong=wrong+1"
   ]
  },
  {
   "cell_type": "code",
   "execution_count": 33,
   "metadata": {},
   "outputs": [
    {
     "data": {
      "text/plain": [
       "[0.1, 0.6, -0.6000000000000001]"
      ]
     },
     "execution_count": 33,
     "metadata": {},
     "output_type": "execute_result"
    }
   ],
   "source": [
    "weights"
   ]
  },
  {
   "cell_type": "code",
   "execution_count": 34,
   "metadata": {},
   "outputs": [
    {
     "data": {
      "text/plain": [
       "3"
      ]
     },
     "execution_count": 34,
     "metadata": {},
     "output_type": "execute_result"
    }
   ],
   "source": [
    "loop"
   ]
  },
  {
   "cell_type": "code",
   "execution_count": null,
   "metadata": {},
   "outputs": [],
   "source": []
  }
 ],
 "metadata": {
  "kernelspec": {
   "display_name": "Python 3",
   "language": "python",
   "name": "python3"
  },
  "language_info": {
   "codemirror_mode": {
    "name": "ipython",
    "version": 3
   },
   "file_extension": ".py",
   "mimetype": "text/x-python",
   "name": "python",
   "nbconvert_exporter": "python",
   "pygments_lexer": "ipython3",
   "version": "3.7.6"
  }
 },
 "nbformat": 4,
 "nbformat_minor": 4
}
